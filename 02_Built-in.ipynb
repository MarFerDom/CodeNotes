{
 "cells": [
  {
   "cell_type": "code",
   "execution_count": 1,
   "id": "ac58204c",
   "metadata": {},
   "outputs": [],
   "source": [
    "#| default_exp builtin"
   ]
  },
  {
   "cell_type": "markdown",
   "id": "db01669e",
   "metadata": {},
   "source": [
    "<a id=top></a>"
   ]
  },
  {
   "cell_type": "markdown",
   "id": "cbe0220d",
   "metadata": {},
   "source": [
    "# Built-in functions\n",
    "\n",
    "> Fast C implementations of basic functionalities"
   ]
  },
  {
   "cell_type": "markdown",
   "id": "10393025",
   "metadata": {},
   "source": [
    "Methods in this page\n",
    "\n",
    "****************\n",
    "\n",
    "- [For acessing attributes](#access)\n",
    "- [Default attributes](#default)\n",
    "- [Access to iterables\\/iterators](#iter)\n",
    "- [Conversion](#conv)\n",
    "- [Math Operations](#math)\n",
    "\n",
    "****************"
   ]
  },
  {
   "cell_type": "markdown",
   "id": "f07e1adc",
   "metadata": {},
   "source": [
    "<a id=access></a>"
   ]
  },
  {
   "cell_type": "markdown",
   "id": "703a2651",
   "metadata": {
    "heading_collapsed": true
   },
   "source": [
    "## For accessing attributes"
   ]
  },
  {
   "cell_type": "markdown",
   "id": "67d69e6b",
   "metadata": {
    "hidden": true
   },
   "source": [
    "### Property\n",
    "\n",
    "> Can be used as a class or a decorator to provide easy \"hidden\" attributes."
   ]
  },
  {
   "cell_type": "markdown",
   "id": "0f663d49",
   "metadata": {
    "hidden": true
   },
   "source": [
    "As a class, the constructor expects to receive functions to get, set and del the attribute along with some documentation"
   ]
  },
  {
   "cell_type": "code",
   "execution_count": 2,
   "id": "f44d74fd",
   "metadata": {
    "hidden": true
   },
   "outputs": [
    {
     "name": "stdout",
     "output_type": "stream",
     "text": [
      "{'_x': 3}\n"
     ]
    },
    {
     "data": {
      "text/plain": [
       "9"
      ]
     },
     "execution_count": 2,
     "metadata": {},
     "output_type": "execute_result"
    }
   ],
   "source": [
    "class myProp:\n",
    "    def __init__(self, x=None):\n",
    "        self._x = None\n",
    "        \n",
    "    def _get(self):\n",
    "        return self._x*3 # just to show the difference with normal attr\n",
    "    \n",
    "    def _set(self, x):\n",
    "        self._x = x\n",
    "        \n",
    "    def _del(self, x):\n",
    "        self._x = None\n",
    "        \n",
    "    x = property(_get, _set, _del, \"THE X!\")\n",
    "    \n",
    "myp = myProp()\n",
    "myp.x = 3\n",
    "print(myp.__dict__)\n",
    "myp.x"
   ]
  },
  {
   "cell_type": "markdown",
   "id": "44e2a299",
   "metadata": {
    "hidden": true
   },
   "source": [
    "As a decorator, can make the code more readable. First define the property getter then the  ```=``` and ```del``` overloaders"
   ]
  },
  {
   "cell_type": "code",
   "execution_count": 3,
   "id": "3cab0bd5",
   "metadata": {
    "hidden": true
   },
   "outputs": [
    {
     "name": "stdout",
     "output_type": "stream",
     "text": [
      "{'_x': 3}\n"
     ]
    },
    {
     "data": {
      "text/plain": [
       "9"
      ]
     },
     "execution_count": 3,
     "metadata": {},
     "output_type": "execute_result"
    }
   ],
   "source": [
    "class myPropDec:\n",
    "    def __init__(self, x=None):\n",
    "        self._x = None\n",
    "        \n",
    "    @property\n",
    "    def x(self):\n",
    "        return self._x*3 # just to show the difference with normal attr\n",
    "    \n",
    "    @x.setter\n",
    "    def x(self, x):\n",
    "        self._x = x\n",
    "        \n",
    "    @x.deleter\n",
    "    def x(self, x):\n",
    "        self._x = None\n",
    "    \n",
    "myp = myPropDec()\n",
    "myp.x = 3\n",
    "print(myp.__dict__)\n",
    "myp.x"
   ]
  },
  {
   "cell_type": "markdown",
   "id": "c9e533f6",
   "metadata": {
    "hidden": true
   },
   "source": [
    "### Staticmethod\n",
    "\n",
    "> Can be used as a class or a decorator to provide easy static methods to classes (no implicit `self` argument)."
   ]
  },
  {
   "cell_type": "markdown",
   "id": "9a95db78",
   "metadata": {
    "hidden": true
   },
   "source": [
    "As a class, the staticmethod constructor expects to receive a function."
   ]
  },
  {
   "cell_type": "code",
   "execution_count": 4,
   "id": "c8b9b906",
   "metadata": {
    "hidden": true
   },
   "outputs": [
    {
     "name": "stdout",
     "output_type": "stream",
     "text": [
      "42\n",
      "42\n"
     ]
    }
   ],
   "source": [
    "def staticTest():\n",
    "    print(42)\n",
    "    \n",
    "class testStatic:\n",
    "    pass\n",
    "\n",
    "testStatic.stat = staticmethod(staticTest)\n",
    "testStatic().stat()\n",
    "testStatic.stat()"
   ]
  },
  {
   "cell_type": "markdown",
   "id": "a0e65992",
   "metadata": {
    "hidden": true
   },
   "source": [
    "Alternatively, if not static, the method uses the object as the first argument implicitly - `self` - raising an error when called by the class."
   ]
  },
  {
   "cell_type": "code",
   "execution_count": 5,
   "id": "057e0eef",
   "metadata": {
    "hidden": true
   },
   "outputs": [
    {
     "name": "stdout",
     "output_type": "stream",
     "text": [
      "<__main__.testStatic object at 0x000001F57E5ECCD0>\n",
      "TypeError: nonstaticTest() missing 1 required positional argument: 'x'\n"
     ]
    }
   ],
   "source": [
    "def nonstaticTest(x):\n",
    "    print(x)\n",
    "    \n",
    "testStatic.nonstatic = nonstaticTest\n",
    "testStatic().nonstatic()\n",
    "try:\n",
    "    testStatic.nonstatic()\n",
    "except TypeError as e:\n",
    "    print(f\"TypeError: {e}\")"
   ]
  },
  {
   "cell_type": "markdown",
   "id": "d8dec1b8",
   "metadata": {
    "hidden": true
   },
   "source": [
    "or an error when called by an instance, if it expects no arguments"
   ]
  },
  {
   "cell_type": "code",
   "execution_count": 6,
   "id": "6046c895",
   "metadata": {
    "hidden": true
   },
   "outputs": [
    {
     "name": "stdout",
     "output_type": "stream",
     "text": [
      "42\n",
      "TypeError: nonstaticTest() takes 0 positional arguments but 1 was given\n"
     ]
    }
   ],
   "source": [
    "def nonstaticTest():\n",
    "    print(42)\n",
    "    \n",
    "testStatic.nonstatic = nonstaticTest\n",
    "testStatic.nonstatic()\n",
    "try:\n",
    "    testStatic().nonstatic()\n",
    "except TypeError as e:\n",
    "    print(f\"TypeError: {e}\")"
   ]
  },
  {
   "cell_type": "markdown",
   "id": "d638e3c4",
   "metadata": {
    "hidden": true
   },
   "source": [
    "As a decorator, makes the code cleaner."
   ]
  },
  {
   "cell_type": "code",
   "execution_count": 7,
   "id": "318296ed",
   "metadata": {
    "hidden": true
   },
   "outputs": [
    {
     "name": "stdout",
     "output_type": "stream",
     "text": [
      "42\n",
      "42\n"
     ]
    }
   ],
   "source": [
    "class staticTestClass:\n",
    "    \n",
    "    @staticmethod\n",
    "    def stat():    # does not need self\n",
    "        print(42)\n",
    "        \n",
    "staticTestClass().stat()\n",
    "staticTestClass.stat()"
   ]
  },
  {
   "cell_type": "markdown",
   "id": "e9973cec",
   "metadata": {
    "hidden": true
   },
   "source": [
    "### Classmethod\n",
    "\n",
    "> Wrapper to define that the method receives the class as an implicit argument, not the instance calling."
   ]
  },
  {
   "cell_type": "code",
   "execution_count": 8,
   "id": "2844347a",
   "metadata": {
    "hidden": true
   },
   "outputs": [
    {
     "name": "stdout",
     "output_type": "stream",
     "text": [
      "Documentation for classmethodTestClass\n",
      "Documentation for classmethodTestClass\n"
     ]
    }
   ],
   "source": [
    "class classmethodTestClass:\n",
    "    \"\"\"Documentation for classmethodTestClass\"\"\"\n",
    "    \n",
    "    @classmethod\n",
    "    def test(self):\n",
    "        print(self.__doc__)\n",
    "        \n",
    "    def testInst(self):\n",
    "        print(self.__doc__)\n",
    "        \n",
    "testObj = classmethodTestClass()\n",
    "testObj.test()\n",
    "testObj.testInst()"
   ]
  },
  {
   "cell_type": "markdown",
   "id": "75b229de",
   "metadata": {
    "hidden": true
   },
   "source": [
    "If we modify the documentation for the instance object we can see how the ```self``` in ```@classmethod``` refers to the class."
   ]
  },
  {
   "cell_type": "code",
   "execution_count": 9,
   "id": "6ed06bc5",
   "metadata": {
    "hidden": true
   },
   "outputs": [
    {
     "name": "stdout",
     "output_type": "stream",
     "text": [
      "Documentation for classmethodTestClass\n",
      "Documentation for an instance of classmethodTestClass\n"
     ]
    }
   ],
   "source": [
    "testObj.__doc__ = \"\"\"Documentation for an instance of classmethodTestClass\"\"\"\n",
    "testObj.test()\n",
    "testObj.testInst()"
   ]
  },
  {
   "cell_type": "markdown",
   "id": "b5b06f56",
   "metadata": {
    "hidden": true
   },
   "source": [
    "If we modify the method test for a regular function, the argument will be the implicit self."
   ]
  },
  {
   "cell_type": "code",
   "execution_count": 10,
   "id": "2c31e3d7",
   "metadata": {
    "hidden": true
   },
   "outputs": [
    {
     "name": "stdout",
     "output_type": "stream",
     "text": [
      "Documentation for an instance of classmethodTestClass\n"
     ]
    }
   ],
   "source": [
    "classmethodTestClass.test = lambda self: print(self.__doc__)\n",
    "testObj.test()"
   ]
  },
  {
   "cell_type": "markdown",
   "id": "33f35a0c",
   "metadata": {
    "hidden": true
   },
   "source": [
    "For this reason, to run an instance method within the class, an argument mas be passed."
   ]
  },
  {
   "cell_type": "code",
   "execution_count": 11,
   "id": "b4a29a36",
   "metadata": {
    "hidden": true
   },
   "outputs": [
    {
     "name": "stdout",
     "output_type": "stream",
     "text": [
      "Documentation for classmethodTestClass\n",
      "Documentation for classmethodTestClass\n"
     ]
    }
   ],
   "source": [
    "classmethodTestClass.test(classmethodTestClass)\n",
    "classmethodTestClass.testInst(classmethodTestClass)"
   ]
  },
  {
   "cell_type": "markdown",
   "id": "2df70ac3",
   "metadata": {
    "hidden": true
   },
   "source": [
    "### Super \n",
    "\n",
    "    super(type, object_or_type=None)\n",
    "\n",
    "> Accessing inherited class attributes. Gets ```object_or_type.__mro__``` starting from ```type``` on."
   ]
  },
  {
   "cell_type": "code",
   "execution_count": 12,
   "id": "46ffd2db",
   "metadata": {
    "hidden": true
   },
   "outputs": [
    {
     "name": "stdout",
     "output_type": "stream",
     "text": [
      "C\n",
      "A\n"
     ]
    }
   ],
   "source": [
    "class A:\n",
    "    def method(self):\n",
    "        print(\"A\")\n",
    "        \n",
    "class B(A):\n",
    "    def method(self):\n",
    "        print(\"B\")\n",
    "        super().method()\n",
    "        \n",
    "class C(B):\n",
    "    def method(self):\n",
    "        print(\"C\")\n",
    "        super(B,self).method()\n",
    "\n",
    "test = C()\n",
    "test.method()"
   ]
  },
  {
   "cell_type": "markdown",
   "id": "b6f891aa",
   "metadata": {
    "hidden": true
   },
   "source": [
    "You can control the sequence in the resolution order by changing the classes ```__mro__``` (Method Resolution Order), but for that a \"[hack](https://stackoverflow.com/questions/20822850/change-python-mro-at-runtime)\" using [metaclasses](https://realpython.com/python-metaclasses/) is necessary. Simply trying to set it does not cut it.\n",
    "\n",
    "See [pydoc](https://docs.python.org/3/glossary.html#term-method-resolution-order)."
   ]
  },
  {
   "cell_type": "code",
   "execution_count": 13,
   "id": "9e1df2fc",
   "metadata": {
    "hidden": true
   },
   "outputs": [
    {
     "name": "stdout",
     "output_type": "stream",
     "text": [
      "D\n",
      "C\n",
      "A\n"
     ]
    }
   ],
   "source": [
    "class D(C):\n",
    "    __mro__ = (B, A, C, object)\n",
    "    \n",
    "    def method(self):\n",
    "        print(\"D\")\n",
    "        super().method()\n",
    "\n",
    "testMRO = D()\n",
    "testMRO.method()"
   ]
  },
  {
   "cell_type": "markdown",
   "id": "60ed6d74",
   "metadata": {
    "hidden": true
   },
   "source": [
    "### Get Attribute and Has Attribute\n",
    "\n",
    "    gettattr(object, name) and hasattr(object, name)\n",
    "\n",
    "> ```getattr()``` works like [dict.get](#Dict), only when not found and with no default, raises ```AttributeError```."
   ]
  },
  {
   "cell_type": "code",
   "execution_count": 14,
   "id": "b00e378d",
   "metadata": {
    "hidden": true
   },
   "outputs": [
    {
     "data": {
      "text/plain": [
       "'42'"
      ]
     },
     "execution_count": 14,
     "metadata": {},
     "output_type": "execute_result"
    }
   ],
   "source": [
    "class attrHolder:\n",
    "    ...\n",
    "    \n",
    "test1 =  attrHolder()\n",
    "test1.text = '42'\n",
    "getattr(test1,'text')"
   ]
  },
  {
   "cell_type": "markdown",
   "id": "e585e398",
   "metadata": {
    "hidden": true
   },
   "source": [
    "In case of non existing attribute:"
   ]
  },
  {
   "cell_type": "code",
   "execution_count": 15,
   "id": "9914a94c",
   "metadata": {
    "hidden": true
   },
   "outputs": [
    {
     "name": "stdout",
     "output_type": "stream",
     "text": [
      "What is 6x9?\n"
     ]
    }
   ],
   "source": [
    "try:\n",
    "    getattr(test1,'42')\n",
    "except AttributeError:\n",
    "    print(\"What is 6x9?\")"
   ]
  },
  {
   "cell_type": "markdown",
   "id": "6180282d",
   "metadata": {
    "hidden": true
   },
   "source": [
    "> ```hasattr(obj,name)``` works by calling getattr(obj,name) and capturing the ```AttributeError``` to return False"
   ]
  },
  {
   "cell_type": "code",
   "execution_count": 16,
   "id": "8214caaf",
   "metadata": {
    "hidden": true
   },
   "outputs": [
    {
     "data": {
      "text/plain": [
       "True"
      ]
     },
     "execution_count": 16,
     "metadata": {},
     "output_type": "execute_result"
    }
   ],
   "source": [
    "hasattr(test1,'text')"
   ]
  },
  {
   "cell_type": "markdown",
   "id": "66b027e2",
   "metadata": {
    "hidden": true
   },
   "source": [
    "### Set Attribute \n",
    "\n",
    "    settattr(obj, name, value)\n",
    "\n",
    "> Set an attribute in object."
   ]
  },
  {
   "cell_type": "code",
   "execution_count": 17,
   "id": "1f12c225",
   "metadata": {
    "hidden": true
   },
   "outputs": [
    {
     "data": {
      "text/plain": [
       "'1'"
      ]
     },
     "execution_count": 17,
     "metadata": {},
     "output_type": "execute_result"
    }
   ],
   "source": [
    "class setTest:\n",
    "    pass\n",
    "\n",
    "setattr(setTest,'x','1')\n",
    "setTest.x"
   ]
  },
  {
   "cell_type": "markdown",
   "id": "1086d10b",
   "metadata": {
    "hidden": true
   },
   "source": [
    "### Dir\n",
    "\n",
    "    dir(object=None)\n",
    "\n",
    "> Lists attributes for using ```__dir__()``` and ```__dict__```. See [\\_\\_dir\\_\\_](01_Dunder.ipynb#__dir__%28%29) and for details [pydocs](https://docs.python.org/3/library/functions.html#dir)."
   ]
  },
  {
   "cell_type": "markdown",
   "id": "cf628128",
   "metadata": {
    "hidden": true
   },
   "source": [
    "### Callable\n",
    "\n",
    "    callable(object)\n",
    "\n",
    "> Weather an object is callable: ```callable(x): return hasattr(x,'__call__')```. See [\\__call\\__()](#_call_())."
   ]
  },
  {
   "cell_type": "code",
   "execution_count": 18,
   "id": "1e643c95",
   "metadata": {
    "hidden": true
   },
   "outputs": [
    {
     "data": {
      "text/plain": [
       "(False, True)"
      ]
     },
     "execution_count": 18,
     "metadata": {},
     "output_type": "execute_result"
    }
   ],
   "source": [
    "callable(42), callable(int)"
   ]
  },
  {
   "cell_type": "code",
   "execution_count": 19,
   "id": "2f2048bf",
   "metadata": {
    "hidden": true,
    "scrolled": true
   },
   "outputs": [
    {
     "name": "stdout",
     "output_type": "stream",
     "text": [
      "current score:\n",
      "['myp', 'nonstaticTest', 'quit', 'random', 'setTest', 'staticTest', 'staticTestClass', 'test', 'test1', 'testMRO', 'testObj', 'testStatic']\n",
      "\n",
      "random module:\n",
      "['paretovariate', 'randint', 'random', 'randrange', 'sample', 'seed', 'setstate', 'shuffle', 'triangular', 'uniform', 'vonmisesvariate', 'weibullvariate']\n",
      "\n",
      "mock class:\n",
      "['__lt__', '__module__', '__ne__', '__new__', '__reduce__', '__reduce_ex__', '__repr__', '__setattr__', '__sizeof__', '__str__', '__subclasshook__', '__weakref__']\n",
      "\n"
     ]
    }
   ],
   "source": [
    "import random\n",
    "print(f\"current score:\\n{dir()[-12:]}\\n\")\n",
    "print(f\"random module:\\n{dir(random)[-12:]}\\n\")\n",
    "print(f\"mock class:\\n{dir(attrHolder)[-12:]}\\n\")"
   ]
  },
  {
   "cell_type": "markdown",
   "id": "bcaac07e",
   "metadata": {
    "hidden": true
   },
   "source": [
    "[back to top](#top)"
   ]
  },
  {
   "cell_type": "markdown",
   "id": "0d5e1166",
   "metadata": {
    "hidden": true
   },
   "source": [
    "<a id=default></a>"
   ]
  },
  {
   "cell_type": "markdown",
   "id": "8589b23a",
   "metadata": {
    "heading_collapsed": true
   },
   "source": [
    "## Default attributes"
   ]
  },
  {
   "cell_type": "markdown",
   "id": "b2224623",
   "metadata": {
    "hidden": true
   },
   "source": [
    "### Defaults and Keyword Defaults\n",
    "\n",
    "    __defaults__\n",
    "    __kwdefaults__\n",
    "\n",
    "> A way to get the function's default arguments and keyword-only default arguments"
   ]
  },
  {
   "cell_type": "code",
   "execution_count": 20,
   "id": "453c49cd",
   "metadata": {
    "hidden": true
   },
   "outputs": [
    {
     "name": "stdout",
     "output_type": "stream",
     "text": [
      "(2,) \t {'c': 10}\n"
     ]
    }
   ],
   "source": [
    "def aFunc(a=2,*b,c=10):\n",
    "    pass\n",
    "\n",
    "print(aFunc.__defaults__, \"\\t\", aFunc.__kwdefaults__)"
   ]
  },
  {
   "cell_type": "markdown",
   "id": "c5087177",
   "metadata": {
    "hidden": true
   },
   "source": [
    "### Name and Code\n",
    "\n",
    "    __name__\n",
    "    __code__\n",
    "\n",
    "> Name of function/method and related code object, which can be ```eval()```"
   ]
  },
  {
   "cell_type": "code",
   "execution_count": 21,
   "id": "96b0f02b",
   "metadata": {
    "hidden": true
   },
   "outputs": [
    {
     "name": "stdout",
     "output_type": "stream",
     "text": [
      "func: pFunc has code:\n",
      "<code object pFunc at 0x000001F57E64C870, file \"C:\\Users\\Aang\\AppData\\Local\\Temp\\ipykernel_11404\\2946981887.py\", line 1>\n",
      "42\n"
     ]
    }
   ],
   "source": [
    "def pFunc():\n",
    "    print('42')\n",
    "    \n",
    "print(f\"func: {pFunc.__name__} has code:\\n{pFunc.__code__}\")\n",
    "\n",
    "exec(pFunc.__code__)"
   ]
  },
  {
   "cell_type": "code",
   "execution_count": 22,
   "id": "035651f2",
   "metadata": {
    "hidden": true
   },
   "outputs": [
    {
     "data": {
      "text/plain": [
       "'test'"
      ]
     },
     "execution_count": 22,
     "metadata": {},
     "output_type": "execute_result"
    }
   ],
   "source": [
    "class test:\n",
    "    ...\n",
    "    \n",
    "test.__name__"
   ]
  },
  {
   "cell_type": "markdown",
   "id": "d45c56d8",
   "metadata": {
    "hidden": true
   },
   "source": [
    "[back to top](#top)"
   ]
  },
  {
   "cell_type": "markdown",
   "id": "94024c9a",
   "metadata": {
    "hidden": true
   },
   "source": [
    "<a id=iter></a>"
   ]
  },
  {
   "cell_type": "markdown",
   "id": "d99a4103",
   "metadata": {
    "heading_collapsed": true
   },
   "source": [
    "## Access to iterables/iterators"
   ]
  },
  {
   "cell_type": "markdown",
   "id": "f92673e5",
   "metadata": {
    "heading_collapsed": true,
    "hidden": true
   },
   "source": [
    "### Enumerate\n",
    "\n",
    "    enumerate(iter, start=0)\n",
    "\n",
    "> ```enumerate(x)``` returns an iterator of pairs ```(index, item)```, where item is ```next(x._iter__())```.\n",
    "\n",
    "* **Optional argument for start index**."
   ]
  },
  {
   "cell_type": "code",
   "execution_count": 23,
   "id": "504c7d9a",
   "metadata": {
    "hidden": true,
    "scrolled": true
   },
   "outputs": [
    {
     "name": "stdout",
     "output_type": "stream",
     "text": [
      "(42, 'a')\n",
      "(43, 'b')\n",
      "(44, 'c')\n",
      "(45, 'd')\n",
      "(46, 'e')\n",
      "(47, 'f')\n"
     ]
    }
   ],
   "source": [
    "for x in enumerate(\"abcdef\", start=42): print(x)"
   ]
  },
  {
   "cell_type": "markdown",
   "id": "0048df99",
   "metadata": {
    "heading_collapsed": true,
    "hidden": true
   },
   "source": [
    "### Filter\n",
    "\n",
    "    filter(f, iter)\n",
    "\n",
    "> Equivalent to ```(x for x in iter if f(x))```"
   ]
  },
  {
   "cell_type": "code",
   "execution_count": 24,
   "id": "8eecb6b4",
   "metadata": {
    "hidden": true
   },
   "outputs": [
    {
     "data": {
      "text/plain": [
       "((43, 'b'), (45, 'd'), (47, 'f'))"
      ]
     },
     "execution_count": 24,
     "metadata": {},
     "output_type": "execute_result"
    }
   ],
   "source": [
    "def myF(x):\n",
    "    return x[0]%2\n",
    "\n",
    "(*filter(myF, enumerate(\"abcdef\", start=42)),)"
   ]
  },
  {
   "cell_type": "markdown",
   "id": "47bde050",
   "metadata": {
    "heading_collapsed": true,
    "hidden": true
   },
   "source": [
    "### Map\n",
    "\n",
    "    map(f, iter, \\*iters)\n",
    "\n",
    "> Equivalent to ```(f(x) for x in zip(iter,*iters))``` "
   ]
  },
  {
   "cell_type": "code",
   "execution_count": 25,
   "id": "9568dc13",
   "metadata": {
    "hidden": true
   },
   "outputs": [
    {
     "data": {
      "text/plain": [
       "[10, 3, 3, 7]"
      ]
     },
     "execution_count": 25,
     "metadata": {},
     "output_type": "execute_result"
    }
   ],
   "source": [
    "list(map(max, (1,2,3,4,5), (9,3,1,7), (10,1,2,5)))"
   ]
  },
  {
   "cell_type": "markdown",
   "id": "50213fb7",
   "metadata": {
    "heading_collapsed": true,
    "hidden": true
   },
   "source": [
    "### Reversed\n",
    "\n",
    "    reversed(seq)\n",
    "\n",
    "> \"```seq``` must be an object which has a ```__reversed__()``` method or supports the sequence protocol (the ```__len__()``` method and the ```__getitem__()``` method with integer arguments starting at 0).\" \\[extract from [pydoc](https://docs.python.org/3/library/functions.html#reversed)\\]."
   ]
  },
  {
   "cell_type": "markdown",
   "id": "2c8ef582",
   "metadata": {
    "hidden": true
   },
   "source": [
    "[back to top](#top)"
   ]
  },
  {
   "cell_type": "markdown",
   "id": "5508190b",
   "metadata": {
    "hidden": true
   },
   "source": [
    "<a id=conv></a>"
   ]
  },
  {
   "cell_type": "markdown",
   "id": "ddba0c12",
   "metadata": {
    "heading_collapsed": true
   },
   "source": [
    "## Conversion"
   ]
  },
  {
   "cell_type": "markdown",
   "id": "f4d596be",
   "metadata": {
    "hidden": true
   },
   "source": [
    "### Binary conversion\n",
    "\n",
    "    bin(int) -> str\n",
    "\n",
    "> ```bin(x)``` first calls ```x.__index__()``` to get integer then converts to binary representation string."
   ]
  },
  {
   "cell_type": "code",
   "execution_count": 26,
   "id": "d43a93fe",
   "metadata": {
    "hidden": true
   },
   "outputs": [
    {
     "name": "stdout",
     "output_type": "stream",
     "text": [
      "0b101010 <class 'str'>\n"
     ]
    },
    {
     "data": {
      "text/plain": [
       "42"
      ]
     },
     "execution_count": 26,
     "metadata": {},
     "output_type": "execute_result"
    }
   ],
   "source": [
    "print(bin_var := bin(int(\"42\")), type(bin_var)) #no str.__index__\n",
    "int(bin_var, base=2)"
   ]
  },
  {
   "cell_type": "markdown",
   "id": "8de61fcb",
   "metadata": {
    "hidden": true
   },
   "source": [
    "### Character coding\n",
    "\n",
    "    ord(str) -> int\n",
    "    chr(int) -> str\n",
    "\n",
    "> converting unicode char -> int and int -> unicode char\n",
    "\n",
    "    len(str) == 1\n",
    "    0 < i < int('0x10FFFF', base=16)"
   ]
  },
  {
   "cell_type": "code",
   "execution_count": 27,
   "id": "f7451e77",
   "metadata": {
    "hidden": true
   },
   "outputs": [
    {
     "name": "stdout",
     "output_type": "stream",
     "text": [
      "ΑΒΓΔΕΖΗΘΙΚΛΜΝΞΟΠΡ΢ΣΤΥΦΧΨΩΪΫάέήίΰαβγδεζηθικλμνξοπρςστυφχψωϊϋόύώϏϐϑϒϓϔϕϖ\n"
     ]
    },
    {
     "data": {
      "text/plain": [
       "913"
      ]
     },
     "execution_count": 27,
     "metadata": {},
     "output_type": "execute_result"
    }
   ],
   "source": [
    "print(\"\".join([chr(x) for x in range(913,913+70)]))\n",
    "ord((*\"ΑΒΓΔΕΖΗΘΙΚΛΜΝΞΟΠΡ΢ΣΤΥΦΧΨΩ\",)[0]) # str has to be len 1"
   ]
  },
  {
   "cell_type": "markdown",
   "id": "2721300c",
   "metadata": {
    "hidden": true
   },
   "source": [
    "### Hexadecimal\n",
    "\n",
    "    hex(int) -> str\n",
    "    \n",
    "> converting a number to hexadecimal representation string"
   ]
  },
  {
   "cell_type": "code",
   "execution_count": 28,
   "id": "57064b86",
   "metadata": {
    "hidden": true
   },
   "outputs": [
    {
     "data": {
      "text/plain": [
       "'0x12'"
      ]
     },
     "execution_count": 28,
     "metadata": {},
     "output_type": "execute_result"
    }
   ],
   "source": [
    "hex(18)"
   ]
  },
  {
   "cell_type": "markdown",
   "id": "d4b367a3",
   "metadata": {
    "hidden": true
   },
   "source": [
    "[back to top](#top)"
   ]
  },
  {
   "cell_type": "markdown",
   "id": "7fa3723d",
   "metadata": {
    "hidden": true
   },
   "source": [
    "<a id=math></a>"
   ]
  },
  {
   "cell_type": "markdown",
   "id": "75037bd5",
   "metadata": {
    "heading_collapsed": true
   },
   "source": [
    "## Math Operations"
   ]
  },
  {
   "cell_type": "markdown",
   "id": "c0f164db",
   "metadata": {
    "hidden": true
   },
   "source": [
    "### Power\n",
    "\n",
    "    pow(base, exp, mod=None)\n",
    "\n",
    "> Calculates ```(base**exp)%mod``` in a more efficient way, **allegedly**. Details on modulus operations [here](https://docs.python.org/3/library/functions.html#pow)"
   ]
  },
  {
   "cell_type": "code",
   "execution_count": 29,
   "id": "c1aab622",
   "metadata": {
    "hidden": true
   },
   "outputs": [
    {
     "name": "stdout",
     "output_type": "stream",
     "text": [
      "898 ns ± 34.1 ns per loop (mean ± std. dev. of 7 runs, 1,000,000 loops each)\n"
     ]
    }
   ],
   "source": [
    "%timeit pow(100,10)%5"
   ]
  },
  {
   "cell_type": "code",
   "execution_count": 30,
   "id": "e65273a4",
   "metadata": {
    "hidden": true
   },
   "outputs": [
    {
     "name": "stdout",
     "output_type": "stream",
     "text": [
      "1.78 µs ± 106 ns per loop (mean ± std. dev. of 7 runs, 1,000,000 loops each)\n"
     ]
    }
   ],
   "source": [
    "%timeit pow(100,10,mod=5)"
   ]
  },
  {
   "cell_type": "markdown",
   "id": "fa8a9ed6",
   "metadata": {
    "hidden": true
   },
   "source": [
    "[back to top](#top)"
   ]
  }
 ],
 "metadata": {
  "kernelspec": {
   "display_name": "Python 3 (ipykernel)",
   "language": "python",
   "name": "python3"
  },
  "language_info": {
   "codemirror_mode": {
    "name": "ipython",
    "version": 3
   },
   "file_extension": ".py",
   "mimetype": "text/x-python",
   "name": "python",
   "nbconvert_exporter": "python",
   "pygments_lexer": "ipython3",
   "version": "3.8.3"
  },
  "toc": {
   "base_numbering": 1,
   "nav_menu": {},
   "number_sections": true,
   "sideBar": true,
   "skip_h1_title": false,
   "title_cell": "Table of Contents",
   "title_sidebar": "Contents",
   "toc_cell": false,
   "toc_position": {},
   "toc_section_display": true,
   "toc_window_display": false
  }
 },
 "nbformat": 4,
 "nbformat_minor": 5
}