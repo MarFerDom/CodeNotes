{
 "cells": [
  {
   "cell_type": "code",
   "execution_count": 1,
   "id": "b4454dc9",
   "metadata": {},
   "outputs": [],
   "source": [
    "#| default_exp scraping"
   ]
  },
  {
   "cell_type": "markdown",
   "id": "29c44cdb",
   "metadata": {},
   "source": [
    "<a id=top></a>"
   ]
  },
  {
   "cell_type": "markdown",
   "id": "96c18f1e",
   "metadata": {},
   "source": [
    "# Scraping\n",
    "\n",
    "> Using http requests and gathering information."
   ]
  },
  {
   "cell_type": "markdown",
   "id": "c21b60a6",
   "metadata": {},
   "source": [
    "## BeautifulSoup\n",
    "\n",
    "> Popular package for scraping html."
   ]
  },
  {
   "cell_type": "markdown",
   "id": "062d68cf",
   "metadata": {},
   "source": [
    "    !pip install beautifulsoup4"
   ]
  },
  {
   "cell_type": "code",
   "execution_count": 4,
   "id": "42e75e8a",
   "metadata": {},
   "outputs": [],
   "source": [
    "#| export\n",
    "from bs4 import BeautifulSoup\n",
    "import requests"
   ]
  },
  {
   "cell_type": "markdown",
   "id": "d9d44eb3",
   "metadata": {},
   "source": [
    "Attributes to change in search"
   ]
  },
  {
   "cell_type": "code",
   "execution_count": 36,
   "id": "f5bda1e9",
   "metadata": {
    "scrolled": true
   },
   "outputs": [
    {
     "data": {
      "text/plain": [
       "'searchType=SALE&locationIdentifier=REGION%5E93941&insId=1&radius=0.0&minPrice=&maxPrice=&minBedrooms=&maxBedrooms=&displayPropertyType=&maxDaysSinceAdded=&_includeSSTC=on&sortByPriceDescending=&primaryDisplayPropertyType=&secondaryDisplayPropertyType=&oldDisplayPropertyType=&oldPrimaryDisplayPropertyType=&newHome=&auction=false'"
      ]
     },
     "execution_count": 36,
     "metadata": {},
     "output_type": "execute_result"
    }
   ],
   "source": [
    "class query():\n",
    "    def __init__(self) -> None:\n",
    "        self.search_param = dict([x.split('=') for x in 'searchType=SALE&locationIdentifier=REGION%5E93941&insId=1&radius=0.0&minPrice=&maxPrice=&minBedrooms=&maxBedrooms=&displayPropertyType=&maxDaysSinceAdded=&_includeSSTC=on&sortByPriceDescending=&primaryDisplayPropertyType=&secondaryDisplayPropertyType=&oldDisplayPropertyType=&oldPrimaryDisplayPropertyType=&newHome=&auction=false'.split('&')])\n",
    "        self.__repr__ = self.__str__\n",
    "        \n",
    "    def __str__(self) -> str:\n",
    "        return \"&\".join(map(lambda x: x[0]+'='+x[1], self.search_param.items()))\n",
    "\n",
    "str(query())"
   ]
  },
  {
   "cell_type": "code",
   "execution_count": 75,
   "id": "f88d5954",
   "metadata": {},
   "outputs": [
    {
     "data": {
      "text/plain": [
       "0"
      ]
     },
     "execution_count": 75,
     "metadata": {},
     "output_type": "execute_result"
    }
   ],
   "source": [
    "response = requests.get(\"https://www.rightmove.co.uk/property-for-sale/find.html?\"+query().__str__())\n",
    "\n",
    "page = BeautifulSoup(response.text, 'html.parser')\n",
    "prices = page.findAll('div', attrs={'class':'propertyCard-priceValue'})\n",
    "addrs = page.findAll('address', attrs={'class':\"propertyCard-address property-card-updates\", 'itemprop':\"address\"})\n",
    "\n",
    "prices[0].getText().strip()\n",
    "len(addrs)"
   ]
  },
  {
   "cell_type": "markdown",
   "id": "1d9dfaea",
   "metadata": {},
   "source": [
    "[back to top](#top)"
   ]
  }
 ],
 "metadata": {
  "kernelspec": {
   "display_name": "Python 3 (ipykernel)",
   "language": "python",
   "name": "python3"
  },
  "language_info": {
   "codemirror_mode": {
    "name": "ipython",
    "version": 3
   },
   "file_extension": ".py",
   "mimetype": "text/x-python",
   "name": "python",
   "nbconvert_exporter": "python",
   "pygments_lexer": "ipython3",
   "version": "3.8.3"
  },
  "toc": {
   "base_numbering": 1,
   "nav_menu": {},
   "number_sections": true,
   "sideBar": true,
   "skip_h1_title": false,
   "title_cell": "Table of Contents",
   "title_sidebar": "Contents",
   "toc_cell": false,
   "toc_position": {},
   "toc_section_display": true,
   "toc_window_display": false
  }
 },
 "nbformat": 4,
 "nbformat_minor": 5
}
