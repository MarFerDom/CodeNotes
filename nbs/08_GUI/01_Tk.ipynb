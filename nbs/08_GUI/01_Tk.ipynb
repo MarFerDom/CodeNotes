{
 "cells": [
  {
   "cell_type": "code",
   "execution_count": null,
   "metadata": {},
   "outputs": [],
   "source": [
    "#| default_exp GUI"
   ]
  },
  {
   "cell_type": "markdown",
   "metadata": {},
   "source": [
    "# TkInter\n",
    "\n",
    "> A popular GUI package"
   ]
  },
  {
   "cell_type": "markdown",
   "metadata": {},
   "source": [
    "## Testing tkinter"
   ]
  },
  {
   "cell_type": "code",
   "execution_count": null,
   "metadata": {},
   "outputs": [],
   "source": [
    "#| export\n",
    "import tkinter as tk\n",
    "from tkinter import messagebox, ttk\n",
    "\n",
    "from functools import partial"
   ]
  },
  {
   "cell_type": "markdown",
   "metadata": {},
   "source": [
    "A simple GUI that just enters lines of text related to the activated widget."
   ]
  },
  {
   "cell_type": "code",
   "execution_count": null,
   "metadata": {},
   "outputs": [],
   "source": [
    "class myApp(tk.Tk):\n",
    "    def __init__(self) -> None:\n",
    "        super().__init__()\n",
    "        self.title(\"Title of App\") \n",
    "        self.geometry(\"450x400+450+150\")\n",
    "        self.create_ui()\n",
    "        \n",
    "    def create_ui(self) -> None:\n",
    "        # menu\n",
    "        menubar = tk.Menu(self)\n",
    "        self.config(menu=menubar)\n",
    "        \n",
    "        # submenus cascading\n",
    "        file_menu = tk.Menu(menubar)\n",
    "        file_menu.add_command(label=\"test\", command=partial(self.a_comm, text_content=\"File menu\"))\n",
    "        \n",
    "        conf_menu = tk.Menu(menubar)\n",
    "        conf_menu.add_command(label=\"test\", command=partial(self.a_comm, text_content=\"Config menu\"))\n",
    "        \n",
    "        menubar.add_cascade(label='File', menu=file_menu)\n",
    "        menubar.add_cascade(label='Config', menu=conf_menu)\n",
    "        \n",
    "        # frame\n",
    "        frame = ttk.Frame(self)\n",
    "        frame.pack(fill=tk.BOTH, expand=1)\n",
    "        \n",
    "        # button\n",
    "        test_button = ttk.Button(frame, text=\"Test\", command=partial(self.a_comm, text_content=\"Button\"))\n",
    "        test_button.pack(anchor=\"e\", padx=5, pady=5)\n",
    "        \n",
    "        # text\n",
    "        self.text = tk.Text(frame)\n",
    "        self.text.pack(fill=tk.BOTH, expand=1)\n",
    "        \n",
    "        if messagebox.askquestion(\"Title\", \"Yes or No?\", icon=\"warning\",) == \"yes\":\n",
    "            self.a_comm(\"YES!!\")\n",
    "        else:\n",
    "            self.a_comm(\"NO MAN!! \"*3)\n",
    "            \n",
    "    def a_comm(self, text_content: str) -> None:\n",
    "        self.text.insert(tk.END, text_content+\"\\n\")   "
   ]
  },
  {
   "cell_type": "markdown",
   "metadata": {},
   "source": [
    "Then run the app"
   ]
  },
  {
   "cell_type": "code",
   "execution_count": null,
   "metadata": {},
   "outputs": [],
   "source": [
    "#|eval: false\n",
    "app = myApp()\n",
    "app.mainloop()"
   ]
  }
 ],
 "metadata": {
  "kernelspec": {
   "display_name": "python3",
   "language": "python",
   "name": "python3"
  }
 },
 "nbformat": 4,
 "nbformat_minor": 4
}
