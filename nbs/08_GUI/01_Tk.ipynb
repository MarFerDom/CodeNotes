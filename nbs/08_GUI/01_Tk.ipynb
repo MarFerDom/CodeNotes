{
 "cells": [
  {
   "cell_type": "code",
   "execution_count": null,
   "metadata": {},
   "outputs": [],
   "source": [
    "#| default_exp GUI"
   ]
  },
  {
   "cell_type": "markdown",
   "metadata": {},
   "source": [
    "# TkInter\n",
    "\n",
    "> A popular GUI package"
   ]
  },
  {
   "cell_type": "markdown",
   "metadata": {},
   "source": [
    "## Testing tkinter"
   ]
  },
  {
   "cell_type": "code",
   "execution_count": 26,
   "metadata": {},
   "outputs": [],
   "source": [
    "#| export\n",
    "import tkinter as tk\n",
    "from tkinter import messagebox, ttk\n",
    "\n",
    "from functools import partial"
   ]
  },
  {
   "cell_type": "markdown",
   "metadata": {},
   "source": [
    "A simple GUI that just enters lines of text related to the activated widget."
   ]
  },
  {
   "cell_type": "code",
   "execution_count": 31,
   "metadata": {},
   "outputs": [],
   "source": [
    "class myApp(tk.Tk):\n",
    "    def __init__(self) -> None:\n",
    "        super().__init__()\n",
    "        self.title(\"Title of App\") \n",
    "        self.geometry(\"450x400+450+150\")\n",
    "        self.create_ui()\n",
    "        \n",
    "    def create_ui(self) -> None:\n",
    "        # menu\n",
    "        menubar = tk.Menu(self)\n",
    "        self.config(menu=menubar)\n",
    "        \n",
    "        # submenus cascading\n",
    "        file_menu = tk.Menu(menubar)\n",
    "        file_menu.add_command(label=\"test\", command=partial(self.a_comm, text_content=\"File menu\"))\n",
    "        \n",
    "        conf_menu = tk.Menu(menubar)\n",
    "        conf_menu.add_command(label=\"test\", command=partial(self.a_comm, text_content=\"Config menu\"))\n",
    "        \n",
    "        menubar.add_cascade(label='File', menu=file_menu)\n",
    "        menubar.add_cascade(label='Config', menu=conf_menu)\n",
    "        \n",
    "        # frame\n",
    "        frame = ttk.Frame(self)\n",
    "        frame.pack(fill=tk.BOTH, expand=1)\n",
    "        \n",
    "        # button\n",
    "        test_button = ttk.Button(frame, text=\"Test\", command=partial(self.a_comm, text_content=\"Button\"))\n",
    "        test_button.pack(anchor=\"e\", padx=5, pady=5)\n",
    "        \n",
    "        # text\n",
    "        self.text = tk.Text(frame)\n",
    "        self.text.pack(fill=tk.BOTH, expand=1)\n",
    "        \n",
    "        if messagebox.askquestion(\"Title\", \"Yes or No?\", icon=\"warning\",) == \"yes\":\n",
    "            self.a_comm(\"YES!!\")\n",
    "        else:\n",
    "            self.a_comm(\"NO MAN!! \"*3)\n",
    "            \n",
    "    def a_comm(self, text_content: str) -> None:\n",
    "        self.text.insert(tk.END, text_content+\"\\n\")   "
   ]
  },
  {
   "cell_type": "markdown",
   "metadata": {},
   "source": [
    "Then run the app"
   ]
  },
  {
   "cell_type": "code",
   "execution_count": 30,
   "metadata": {},
   "outputs": [],
   "source": [
    "app = myApp()\n",
    "app.mainloop()"
   ]
  }
 ],
 "metadata": {
  "kernelspec": {
   "display_name": "Python 3 (ipykernel)",
   "language": "python",
   "name": "python3"
  },
  "language_info": {
   "codemirror_mode": {
    "name": "ipython",
    "version": 3
   },
   "file_extension": ".py",
   "mimetype": "text/x-python",
   "name": "python",
   "nbconvert_exporter": "python",
   "pygments_lexer": "ipython3",
   "version": "3.8.3"
  },
  "toc": {
   "base_numbering": 1,
   "nav_menu": {},
   "number_sections": true,
   "sideBar": true,
   "skip_h1_title": false,
   "title_cell": "Table of Contents",
   "title_sidebar": "Contents",
   "toc_cell": false,
   "toc_position": {},
   "toc_section_display": true,
   "toc_window_display": false
  }
 },
 "nbformat": 4,
 "nbformat_minor": 4
}
