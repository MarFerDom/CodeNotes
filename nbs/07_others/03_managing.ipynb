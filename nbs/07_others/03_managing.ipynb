{
 "cells": [
  {
   "cell_type": "code",
   "execution_count": null,
   "metadata": {},
   "outputs": [],
   "source": [
    "#| default_exp others_manage"
   ]
  },
  {
   "cell_type": "markdown",
   "metadata": {},
   "source": [
    "<a id=top></a>"
   ]
  },
  {
   "cell_type": "markdown",
   "metadata": {},
   "source": [
    "# Managing\n",
    "\n",
    "> Auths, ids and the rest of the business"
   ]
  },
  {
   "cell_type": "markdown",
   "metadata": {},
   "source": [
    "## uuid7\n",
    "\n",
    "a unique id generator\n",
    "\n",
    "> can pass arg ```as_type=['bytes'|'hex'|'int'|'str'|'uuid'|None]```\n",
    ">\n",
    "> Get lib doc [here](https://pypi.org/project/uuid7/)"
   ]
  },
  {
   "cell_type": "markdown",
   "metadata": {},
   "source": [
    "Install:\n",
    "\n",
    "     !pip install uuid7"
   ]
  },
  {
   "cell_type": "code",
   "execution_count": null,
   "metadata": {},
   "outputs": [],
   "source": [
    "#| export\n",
    "from uuid_extensions import uuid7, uuid7str"
   ]
  },
  {
   "cell_type": "code",
   "execution_count": null,
   "metadata": {},
   "outputs": [
    {
     "name": "stdout",
     "output_type": "stream",
     "text": [
      "063cabb4-e911-7d51-8000-f8904776131a\n"
     ]
    },
    {
     "data": {
      "text/plain": [
       "UUID('063cabb4-e915-7ebd-8000-d479d1fdb216')"
      ]
     },
     "execution_count": null,
     "metadata": {},
     "output_type": "execute_result"
    }
   ],
   "source": [
    "print(uuid7str())\n",
    "uuid7()"
   ]
  },
  {
   "cell_type": "markdown",
   "metadata": {},
   "source": [
    "## uuid\n",
    "\n",
    "a unique id generator\n",
    "\n",
    "> Get lib doc [here](https://docs.python.org/3/library/uuid.html)"
   ]
  },
  {
   "cell_type": "code",
   "execution_count": null,
   "metadata": {},
   "outputs": [],
   "source": [
    "#| export\n",
    "from uuid import uuid4"
   ]
  },
  {
   "cell_type": "code",
   "execution_count": null,
   "metadata": {},
   "outputs": [
    {
     "data": {
      "text/plain": [
       "UUID('f7ffabe4-9ed9-4066-9f25-7913750d33de')"
      ]
     },
     "execution_count": null,
     "metadata": {},
     "output_type": "execute_result"
    }
   ],
   "source": [
    "uuid4()"
   ]
  },
  {
   "cell_type": "markdown",
   "metadata": {},
   "source": [
    "[back to top](#top)"
   ]
  }
 ],
 "metadata": {
  "kernelspec": {
   "display_name": "python3",
   "language": "python",
   "name": "python3"
  }
 },
 "nbformat": 4,
 "nbformat_minor": 4
}
