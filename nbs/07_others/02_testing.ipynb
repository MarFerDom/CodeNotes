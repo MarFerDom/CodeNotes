{
 "cells": [
  {
   "cell_type": "code",
   "execution_count": 1,
   "metadata": {},
   "outputs": [],
   "source": [
    "#| default_exp others_test"
   ]
  },
  {
   "cell_type": "markdown",
   "metadata": {},
   "source": [
    "<a id=top></a>"
   ]
  },
  {
   "cell_type": "markdown",
   "metadata": {},
   "source": [
    "# Testing\n",
    "\n",
    "> Testing and automating tests"
   ]
  },
  {
   "cell_type": "markdown",
   "metadata": {},
   "source": [
    "## unittest\n",
    "\n",
    "> Allows for the creation of test and subsequent automation.\n",
    ">\n",
    "> @patch can be used as: ```with patch('builtins.input', return_value=\"42\"):``` inside testing function"
   ]
  },
  {
   "cell_type": "markdown",
   "metadata": {},
   "source": [
    "Using the example class below:"
   ]
  },
  {
   "cell_type": "code",
   "execution_count": 2,
   "metadata": {},
   "outputs": [],
   "source": [
    "class TestTarget:\n",
    "    def __init__(self,x=0):\n",
    "        self._x=x\n",
    "        self._isSet = False\n",
    "        \n",
    "    def receiveInput():\n",
    "        self._x = int(input(\"set an integer\"))\n",
    "        self.isSet = True\n",
    "        \n",
    "    @property\n",
    "    def x():\n",
    "        return self._x\n",
    "        \n",
    "    @property\n",
    "    def isSet(self):\n",
    "        return self._isSet\n",
    "    \n",
    "    @isSet.setter\n",
    "    def isSet(self, x):\n",
    "        self._isSet = x"
   ]
  },
  {
   "cell_type": "markdown",
   "metadata": {},
   "source": [
    "Which can be organized as a single test case with two test functions"
   ]
  },
  {
   "cell_type": "code",
   "execution_count": null,
   "metadata": {},
   "outputs": [],
   "source": [
    "#| export\n",
    "import unittest\n",
    "from unittest.mock import patch"
   ]
  },
  {
   "cell_type": "code",
   "execution_count": 3,
   "metadata": {},
   "outputs": [],
   "source": [
    "class testCase(unittest.TestCase):\n",
    "    def test_init(self):\n",
    "        target = TestTarget()\n",
    "        self.assertFalse(target.isSet)\n",
    "        self.assertEqual(target.x,0)\n",
    "        \n",
    "    @patch('builtins.input', return_value=\"42\")\n",
    "    def test_setting(self, mocked_input):\n",
    "        target = TestTarget(1)\n",
    "        self.assertEqual(target.x,1)\n",
    "        target.receiveInput()\n",
    "        self.assertTrue(target.isSet)\n",
    "        self.assertEqual(target.x,42)"
   ]
  },
  {
   "cell_type": "markdown",
   "metadata": {},
   "source": [
    "[back to top](#top)"
   ]
  }
 ],
 "metadata": {
  "kernelspec": {
   "display_name": "Python 3 (ipykernel)",
   "language": "python",
   "name": "python3"
  },
  "language_info": {
   "codemirror_mode": {
    "name": "ipython",
    "version": 3
   },
   "file_extension": ".py",
   "mimetype": "text/x-python",
   "name": "python",
   "nbconvert_exporter": "python",
   "pygments_lexer": "ipython3",
   "version": "3.8.3"
  },
  "toc": {
   "base_numbering": 1,
   "nav_menu": {},
   "number_sections": true,
   "sideBar": true,
   "skip_h1_title": false,
   "title_cell": "Table of Contents",
   "title_sidebar": "Contents",
   "toc_cell": false,
   "toc_position": {},
   "toc_section_display": true,
   "toc_window_display": false
  }
 },
 "nbformat": 4,
 "nbformat_minor": 4
}
