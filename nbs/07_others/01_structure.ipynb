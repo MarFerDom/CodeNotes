{
 "cells": [
  {
   "cell_type": "code",
   "execution_count": null,
   "metadata": {},
   "outputs": [],
   "source": [
    "#| default_exp others_structure"
   ]
  },
  {
   "cell_type": "markdown",
   "metadata": {},
   "source": [
    "<a id=top></a>"
   ]
  },
  {
   "cell_type": "markdown",
   "metadata": {},
   "source": [
    "# Structuring code\n",
    "\n",
    "> Libs and snippets for structuring code properly"
   ]
  },
  {
   "cell_type": "markdown",
   "metadata": {},
   "source": [
    "## dataclasses\n",
    "\n",
    "> dataclasses for easy data classes with attributes which may be const"
   ]
  },
  {
   "cell_type": "code",
   "execution_count": null,
   "metadata": {},
   "outputs": [],
   "source": [
    "#| export\n",
    "from dataclasses import dataclass, FrozenInstanceError\n",
    "from typing import List"
   ]
  },
  {
   "cell_type": "code",
   "execution_count": null,
   "metadata": {},
   "outputs": [],
   "source": [
    "@dataclass(order=True, frozen=True)\n",
    "class Command:\n",
    "    command: str\n",
    "    arguments: List[str]\n",
    "\n",
    "def createComm(comm, *others) -> Command:\n",
    "    return Command(comm, others)\n",
    "\n",
    "def testFeatures():\n",
    "    cmd1 = createComm(*\"go fetch the ball\".split())\n",
    "    cmd2 = createComm(*\"come get some food\".split())\n",
    "    print(cmd1, cmd2, sep=\"\\t\")\n",
    "    print(cmd1>cmd2)\n",
    "    \n",
    "def testFreeze():\n",
    "    cmd, *rest = \"what does the fox say\".split()\n",
    "    test = Command(cmd, rest)\n",
    "    test.command = \"other\"\n",
    "    print(test.command, test.arguments)\n",
    "\n",
    "#if __name__ == \"__main__\":\n",
    "#    main()"
   ]
  },
  {
   "cell_type": "markdown",
   "metadata": {},
   "source": [
    "Good clean printing description plus ```order=True``` allows for comparisson"
   ]
  },
  {
   "cell_type": "code",
   "execution_count": null,
   "metadata": {},
   "outputs": [
    {
     "name": "stdout",
     "output_type": "stream",
     "text": [
      "Command(command='go', arguments=('fetch', 'the', 'ball'))\tCommand(command='come', arguments=('get', 'some', 'food'))\n",
      "True\n"
     ]
    }
   ],
   "source": [
    "testFeatures()"
   ]
  },
  {
   "cell_type": "markdown",
   "metadata": {},
   "source": [
    "Here we can see the ```frozen=True``` rises and error when we try to reset an attribute"
   ]
  },
  {
   "cell_type": "code",
   "execution_count": null,
   "metadata": {},
   "outputs": [
    {
     "name": "stdout",
     "output_type": "stream",
     "text": [
      "FrozenInstanceError :  cannot assign to field 'command'\n"
     ]
    }
   ],
   "source": [
    "try:\n",
    "    testFreeze()\n",
    "except FrozenInstanceError as e:\n",
    "    print(e.__class__.__name__, \": \", e)"
   ]
  },
  {
   "cell_type": "markdown",
   "metadata": {},
   "source": [
    "[back to top](#top)"
   ]
  },
  {
   "cell_type": "markdown",
   "metadata": {},
   "source": [
    "## typing\n",
    "\n",
    "> typing has to be called for type hintting on callables and lists.\n",
    "\n",
    "* Not on newer python, apparently"
   ]
  },
  {
   "cell_type": "code",
   "execution_count": null,
   "metadata": {},
   "outputs": [],
   "source": [
    "#| export\n",
    "import numpy as np\n",
    "from string import ascii_lowercase as letters\n",
    "from typing import Callable, List"
   ]
  },
  {
   "cell_type": "code",
   "execution_count": null,
   "metadata": {},
   "outputs": [
    {
     "data": {
      "text/plain": [
       "array(['a', 't', 'e', 'r', 'm', 'n', 'e', 'v', 'e', 'i'], dtype='<U1')"
      ]
     },
     "execution_count": null,
     "metadata": {},
     "output_type": "execute_result"
    }
   ],
   "source": [
    "def uDictRandKey(frand: Callable[[List[str],int],List[int]]=np.random.choice,\n",
    "                 base: str=letters, qty: int=1) -> List[str]:\n",
    "    keys = []\n",
    "    numChars = 1\n",
    "    baseSize = len(set(base))\n",
    "    while (qty//(baseSize**numChars)): numChars+=1\n",
    "    \n",
    "    return frand([*base], size=qty)\n",
    "np.random.choice([*letters], size=10)"
   ]
  },
  {
   "cell_type": "code",
   "execution_count": null,
   "metadata": {},
   "outputs": [
    {
     "data": {
      "text/plain": [
       "array(['d'], dtype='<U1')"
      ]
     },
     "execution_count": null,
     "metadata": {},
     "output_type": "execute_result"
    }
   ],
   "source": [
    "uDictRandKey(np.random.choice)"
   ]
  },
  {
   "cell_type": "markdown",
   "metadata": {},
   "source": [
    "[back to top](#top)"
   ]
  },
  {
   "cell_type": "markdown",
   "metadata": {},
   "source": [
    "## Protocol\n",
    "\n",
    "> Protocol class implements interfaces in python. \"Duck-typing\": if it has the right methods, it is the right type"
   ]
  },
  {
   "cell_type": "code",
   "execution_count": null,
   "metadata": {},
   "outputs": [],
   "source": [
    "#| export\n",
    "from typing import Protocol"
   ]
  },
  {
   "cell_type": "code",
   "execution_count": null,
   "metadata": {},
   "outputs": [
    {
     "name": "stdout",
     "output_type": "stream",
     "text": [
      "Beeblebrot is talking..\n",
      "Arthur is listening..\n",
      "Arthur is not talking..\n",
      "Beeblebrot is not listening..\n",
      "Beeblebrot is writing..\n",
      "Arthur is reading..\n",
      "Arthur is not writing..\n",
      "Beeblebrot is not reading..\n"
     ]
    }
   ],
   "source": [
    "class call(Protocol):\n",
    "    def talk():\n",
    "        ...\n",
    "    def listen():\n",
    "        ...\n",
    "        \n",
    "class msg(Protocol):\n",
    "    def write():\n",
    "        ...\n",
    "    def read():\n",
    "        ...\n",
    "        \n",
    "class extro:\n",
    "    def __init__(self, name=\"Beeblebrot\"):\n",
    "        self.name = name\n",
    "    def talk(self):\n",
    "        print(f\"{self.name} is talking..\")\n",
    "    def listen(self):\n",
    "        print(f\"{self.name} is not listening..\")\n",
    "    def read(self):\n",
    "        print(f\"{self.name} is not reading..\")\n",
    "    def write(self):\n",
    "        print(f\"{self.name} is writing..\")\n",
    "        \n",
    "class intro:\n",
    "    def __init__(self, name=\"Arthur\"):\n",
    "        self.name = name\n",
    "    def talk(self):\n",
    "        print(f\"{self.name} is not talking..\")\n",
    "    def listen(self):\n",
    "        print(f\"{self.name} is listening..\")\n",
    "    def read(self):\n",
    "        print(f\"{self.name} is reading..\")\n",
    "    def write(self):\n",
    "        print(f\"{self.name} is not writing..\")\n",
    "        \n",
    "def phonecall(person1: call, person2: call):\n",
    "    person1.talk()\n",
    "    person2.listen()\n",
    "    person2.talk()\n",
    "    person1.listen()\n",
    "    \n",
    "def textchat(person1: msg, person2: msg):\n",
    "    person1.write()\n",
    "    person2.read()\n",
    "    person2.write()\n",
    "    person1.read()\n",
    "    \n",
    "p1, p2 = extro(), intro()\n",
    "phonecall(p1,p2)\n",
    "textchat(p1,p2)"
   ]
  },
  {
   "cell_type": "markdown",
   "metadata": {},
   "source": [
    "[back to top](#top)"
   ]
  },
  {
   "cell_type": "markdown",
   "metadata": {},
   "source": [
    "## partial\n",
    "\n",
    "> partial decorator/class allows for parameter pre setting in functions"
   ]
  },
  {
   "cell_type": "code",
   "execution_count": null,
   "metadata": {},
   "outputs": [],
   "source": [
    "#| export\n",
    "from functools import partial"
   ]
  },
  {
   "cell_type": "code",
   "execution_count": null,
   "metadata": {},
   "outputs": [
    {
     "name": "stdout",
     "output_type": "stream",
     "text": [
      "what is 6x8?  42\n",
      "what is 6x7?  42\n"
     ]
    }
   ],
   "source": [
    "def myprint(toPrint,toPrint2):\n",
    "    print(toPrint,toPrint2)\n",
    "\n",
    "otherprint = partial(myprint, toPrint2=\"42\")\n",
    "otherprint(\"what is 6x8? \")\n",
    "otherprint(\"what is 6x7? \")"
   ]
  },
  {
   "cell_type": "markdown",
   "metadata": {},
   "source": [
    "[back to top](#top)"
   ]
  },
  {
   "cell_type": "markdown",
   "metadata": {},
   "source": [
    "## ABC and abstractmethod\n",
    "\n",
    "> ABC class inheriting and abstractmethod decorator implements abstract classes in python"
   ]
  },
  {
   "cell_type": "code",
   "execution_count": null,
   "metadata": {},
   "outputs": [],
   "source": [
    "#| export\n",
    "from abc import ABC, abstractmethod"
   ]
  },
  {
   "cell_type": "code",
   "execution_count": null,
   "metadata": {},
   "outputs": [
    {
     "name": "stdout",
     "output_type": "stream",
     "text": [
      "this method does this\n",
      "this method does that\n"
     ]
    }
   ],
   "source": [
    "class absClass(ABC):\n",
    "    @abstractmethod\n",
    "    def aMethod(self):\n",
    "        '''this method does this'''\n",
    "    \n",
    "    @abstractmethod\n",
    "    def bMethod(self):\n",
    "        '''this method does that'''\n",
    "        \n",
    "class concreteClass(absClass):\n",
    "    \n",
    "    def aMethod(self):\n",
    "        print('this method does this')\n",
    "        return self\n",
    "        \n",
    "    def bMethod(self):\n",
    "        print('this method does that')\n",
    "        return self\n",
    "        \n",
    "def testABC(obj: absClass):\n",
    "    obj.aMethod().bMethod()\n",
    "    \n",
    "testABC(concreteClass())"
   ]
  },
  {
   "cell_type": "markdown",
   "metadata": {},
   "source": [
    "[back to top](#top)"
   ]
  }
 ],
 "metadata": {
  "kernelspec": {
   "display_name": "python3",
   "language": "python",
   "name": "python3"
  }
 },
 "nbformat": 4,
 "nbformat_minor": 4
}
