{
 "cells": [
  {
   "cell_type": "code",
   "execution_count": null,
   "id": "cc78b09c",
   "metadata": {},
   "outputs": [],
   "source": [
    "#|default_exp PCA"
   ]
  },
  {
   "cell_type": "markdown",
   "id": "b8eafa41",
   "metadata": {},
   "source": [
    "# PCA\n",
    "\n",
    "> Some tests with PCA"
   ]
  },
  {
   "cell_type": "code",
   "execution_count": null,
   "id": "fcafec0e",
   "metadata": {},
   "outputs": [],
   "source": [
    "#|export\n",
    "import pandas as pd\n",
    "import numpy as np"
   ]
  },
  {
   "cell_type": "code",
   "execution_count": null,
   "id": "2d74ebbe",
   "metadata": {},
   "outputs": [],
   "source": [
    "#|export\n",
    "from sklearn.decomposition import PCA"
   ]
  },
  {
   "cell_type": "code",
   "execution_count": null,
   "id": "e29f34dc",
   "metadata": {},
   "outputs": [],
   "source": [
    "C = [1,4,2,2,4,2]\n",
    "df = pd.DataFrame({'A':[1,2,3,4,5,6], 'B':[1,3,5,5,3,1], 'C1':C, 'C2':C})"
   ]
  },
  {
   "cell_type": "code",
   "execution_count": null,
   "id": "b6b9ca17",
   "metadata": {},
   "outputs": [
    {
     "data": {
      "text/html": [
       "<div>\n",
       "<style scoped>\n",
       "    .dataframe tbody tr th:only-of-type {\n",
       "        vertical-align: middle;\n",
       "    }\n",
       "\n",
       "    .dataframe tbody tr th {\n",
       "        vertical-align: top;\n",
       "    }\n",
       "\n",
       "    .dataframe thead th {\n",
       "        text-align: right;\n",
       "    }\n",
       "</style>\n",
       "<table border=\"1\" class=\"dataframe\">\n",
       "  <thead>\n",
       "    <tr style=\"text-align: right;\">\n",
       "      <th></th>\n",
       "      <th>A</th>\n",
       "      <th>B</th>\n",
       "      <th>C1</th>\n",
       "      <th>C2</th>\n",
       "    </tr>\n",
       "  </thead>\n",
       "  <tbody>\n",
       "    <tr>\n",
       "      <th>0</th>\n",
       "      <td>1</td>\n",
       "      <td>1</td>\n",
       "      <td>1</td>\n",
       "      <td>1</td>\n",
       "    </tr>\n",
       "    <tr>\n",
       "      <th>1</th>\n",
       "      <td>2</td>\n",
       "      <td>3</td>\n",
       "      <td>4</td>\n",
       "      <td>4</td>\n",
       "    </tr>\n",
       "    <tr>\n",
       "      <th>2</th>\n",
       "      <td>3</td>\n",
       "      <td>5</td>\n",
       "      <td>2</td>\n",
       "      <td>2</td>\n",
       "    </tr>\n",
       "    <tr>\n",
       "      <th>3</th>\n",
       "      <td>4</td>\n",
       "      <td>5</td>\n",
       "      <td>2</td>\n",
       "      <td>2</td>\n",
       "    </tr>\n",
       "    <tr>\n",
       "      <th>4</th>\n",
       "      <td>5</td>\n",
       "      <td>3</td>\n",
       "      <td>4</td>\n",
       "      <td>4</td>\n",
       "    </tr>\n",
       "    <tr>\n",
       "      <th>5</th>\n",
       "      <td>6</td>\n",
       "      <td>1</td>\n",
       "      <td>2</td>\n",
       "      <td>2</td>\n",
       "    </tr>\n",
       "  </tbody>\n",
       "</table>\n",
       "</div>"
      ],
      "text/plain": [
       "   A  B  C1  C2\n",
       "0  1  1   1   1\n",
       "1  2  3   4   4\n",
       "2  3  5   2   2\n",
       "3  4  5   2   2\n",
       "4  5  3   4   4\n",
       "5  6  1   2   2"
      ]
     },
     "execution_count": null,
     "metadata": {},
     "output_type": "execute_result"
    }
   ],
   "source": [
    "df"
   ]
  },
  {
   "cell_type": "code",
   "execution_count": null,
   "id": "dc32e16b",
   "metadata": {},
   "outputs": [
    {
     "data": {
      "text/plain": [
       "(array([2.25783424, 4.13294994, 3.30921583, 0.        ]),\n",
       " array([[ 4.38595999e-01, -6.90751652e-01, -5.74887558e-01,\n",
       "         -4.06759704e-18],\n",
       "        [ 4.62601343e-01, -3.74906474e-01,  8.03396000e-01,\n",
       "         -1.14581450e-16],\n",
       "        [-5.44808933e-01, -4.37211213e-01,  1.09679448e-01,\n",
       "         -7.07106781e-01],\n",
       "        [-5.44808933e-01, -4.37211213e-01,  1.09679448e-01,\n",
       "          7.07106781e-01]]))"
      ]
     },
     "execution_count": null,
     "metadata": {},
     "output_type": "execute_result"
    }
   ],
   "source": [
    "zero_mean = df - df.mean()\n",
    "np.linalg.eig(zero_mean.cov())"
   ]
  },
  {
   "cell_type": "code",
   "execution_count": null,
   "id": "974fbb7d",
   "metadata": {},
   "outputs": [],
   "source": [
    "#not timed\n",
    "pca = PCA(n_components=4)"
   ]
  },
  {
   "cell_type": "code",
   "execution_count": null,
   "id": "40857ee6",
   "metadata": {},
   "outputs": [
    {
     "name": "stdout",
     "output_type": "stream",
     "text": [
      "2.61 ms ± 400 µs per loop (mean ± std. dev. of 7 runs, 100 loops each)\n"
     ]
    }
   ],
   "source": [
    "%%timeit\n",
    "pca.fit(zero_mean)\n",
    "pca.components_"
   ]
  },
  {
   "cell_type": "code",
   "execution_count": null,
   "id": "e8ba0cfc",
   "metadata": {},
   "outputs": [
    {
     "name": "stdout",
     "output_type": "stream",
     "text": [
      "[4.13294994e+00 3.30921583e+00 2.25783424e+00 7.51030182e-33]\n",
      "[4.54584972e+00 4.06768720e+00 3.35993619e+00 1.93782118e-16]\n",
      "CPU times: total: 0 ns\n",
      "Wall time: 0 ns\n"
     ]
    }
   ],
   "source": [
    "%%time\n",
    "print(pca.explained_variance_, pca.singular_values_, sep='\\n')"
   ]
  },
  {
   "cell_type": "code",
   "execution_count": null,
   "id": "74a07eee",
   "metadata": {},
   "outputs": [
    {
     "data": {
      "text/html": [
       "<div>\n",
       "<style scoped>\n",
       "    .dataframe tbody tr th:only-of-type {\n",
       "        vertical-align: middle;\n",
       "    }\n",
       "\n",
       "    .dataframe tbody tr th {\n",
       "        vertical-align: top;\n",
       "    }\n",
       "\n",
       "    .dataframe thead th {\n",
       "        text-align: right;\n",
       "    }\n",
       "</style>\n",
       "<table border=\"1\" class=\"dataframe\">\n",
       "  <thead>\n",
       "    <tr style=\"text-align: right;\">\n",
       "      <th></th>\n",
       "      <th>0</th>\n",
       "      <th>1</th>\n",
       "      <th>2</th>\n",
       "      <th>3</th>\n",
       "    </tr>\n",
       "  </thead>\n",
       "  <tbody>\n",
       "    <tr>\n",
       "      <th>A</th>\n",
       "      <td>-0.193928</td>\n",
       "      <td>0.129562</td>\n",
       "      <td>-0.059770</td>\n",
       "      <td>-0.193283</td>\n",
       "    </tr>\n",
       "    <tr>\n",
       "      <th>B</th>\n",
       "      <td>-0.117592</td>\n",
       "      <td>-0.207353</td>\n",
       "      <td>-0.078473</td>\n",
       "      <td>-0.607407</td>\n",
       "    </tr>\n",
       "    <tr>\n",
       "      <th>C1</th>\n",
       "      <td>-0.240572</td>\n",
       "      <td>-0.059146</td>\n",
       "      <td>0.270675</td>\n",
       "      <td>-0.572923</td>\n",
       "    </tr>\n",
       "    <tr>\n",
       "      <th>C2</th>\n",
       "      <td>-0.240572</td>\n",
       "      <td>-0.059146</td>\n",
       "      <td>0.270675</td>\n",
       "      <td>-0.572923</td>\n",
       "    </tr>\n",
       "  </tbody>\n",
       "</table>\n",
       "</div>"
      ],
      "text/plain": [
       "           0         1         2         3\n",
       "A  -0.193928  0.129562 -0.059770 -0.193283\n",
       "B  -0.117592 -0.207353 -0.078473 -0.607407\n",
       "C1 -0.240572 -0.059146  0.270675 -0.572923\n",
       "C2 -0.240572 -0.059146  0.270675 -0.572923"
      ]
     },
     "execution_count": null,
     "metadata": {},
     "output_type": "execute_result"
    }
   ],
   "source": [
    "np.matmul(zero_mean.corr(), pca.components_.T)/pca.singular_values_"
   ]
  },
  {
   "cell_type": "code",
   "execution_count": null,
   "id": "a1fc2607",
   "metadata": {},
   "outputs": [
    {
     "data": {
      "text/html": [
       "<div>\n",
       "<style scoped>\n",
       "    .dataframe tbody tr th:only-of-type {\n",
       "        vertical-align: middle;\n",
       "    }\n",
       "\n",
       "    .dataframe tbody tr th {\n",
       "        vertical-align: top;\n",
       "    }\n",
       "\n",
       "    .dataframe thead th {\n",
       "        text-align: right;\n",
       "    }\n",
       "</style>\n",
       "<table border=\"1\" class=\"dataframe\">\n",
       "  <thead>\n",
       "    <tr style=\"text-align: right;\">\n",
       "      <th></th>\n",
       "      <th>0</th>\n",
       "      <th>1</th>\n",
       "      <th>2</th>\n",
       "      <th>3</th>\n",
       "    </tr>\n",
       "  </thead>\n",
       "  <tbody>\n",
       "    <tr>\n",
       "      <th>0</th>\n",
       "      <td>-0.690752</td>\n",
       "      <td>0.574888</td>\n",
       "      <td>-0.438596</td>\n",
       "      <td>0.000000e+00</td>\n",
       "    </tr>\n",
       "    <tr>\n",
       "      <th>1</th>\n",
       "      <td>-0.374906</td>\n",
       "      <td>-0.803396</td>\n",
       "      <td>-0.462601</td>\n",
       "      <td>-1.110223e-16</td>\n",
       "    </tr>\n",
       "    <tr>\n",
       "      <th>2</th>\n",
       "      <td>-0.437211</td>\n",
       "      <td>-0.109679</td>\n",
       "      <td>0.544809</td>\n",
       "      <td>-7.071068e-01</td>\n",
       "    </tr>\n",
       "    <tr>\n",
       "      <th>3</th>\n",
       "      <td>-0.437211</td>\n",
       "      <td>-0.109679</td>\n",
       "      <td>0.544809</td>\n",
       "      <td>7.071068e-01</td>\n",
       "    </tr>\n",
       "  </tbody>\n",
       "</table>\n",
       "</div>"
      ],
      "text/plain": [
       "          0         1         2             3\n",
       "0 -0.690752  0.574888 -0.438596  0.000000e+00\n",
       "1 -0.374906 -0.803396 -0.462601 -1.110223e-16\n",
       "2 -0.437211 -0.109679  0.544809 -7.071068e-01\n",
       "3 -0.437211 -0.109679  0.544809  7.071068e-01"
      ]
     },
     "execution_count": null,
     "metadata": {},
     "output_type": "execute_result"
    }
   ],
   "source": [
    "pd.DataFrame(pca.components_.T)"
   ]
  },
  {
   "cell_type": "code",
   "execution_count": null,
   "id": "557a083e",
   "metadata": {},
   "outputs": [],
   "source": [
    "i=0\n",
    "#np.dot(np.matmul(zero_mean.corr(), np.transpose(pca.components_[i][:,np.newaxis])), pca.components_[i])/pca.explained_variance_[i]"
   ]
  },
  {
   "cell_type": "code",
   "execution_count": null,
   "id": "254af8d5",
   "metadata": {},
   "outputs": [],
   "source": [
    "proj = []\n",
    "for i in range(4):\n",
    "    proj.append(np.outer(np.dot((df - np.mean(df,axis=0)).to_numpy(), pca.components_[i]),pca.components_[i][:,np.newaxis]))"
   ]
  },
  {
   "cell_type": "code",
   "execution_count": null,
   "id": "c7968d02",
   "metadata": {},
   "outputs": [
    {
     "data": {
      "text/plain": [
       "[4.5458497197998735,\n",
       " 4.067687196947729,\n",
       " 3.3599361887962864,\n",
       " 6.544668208791957e-16]"
      ]
     },
     "execution_count": null,
     "metadata": {},
     "output_type": "execute_result"
    }
   ],
   "source": [
    "[np.linalg.norm(p) for p in proj]"
   ]
  },
  {
   "cell_type": "code",
   "execution_count": null,
   "id": "179752d5",
   "metadata": {},
   "outputs": [],
   "source": [
    "trial_df = pd.concat([df,df,df,df,df,df,df,df], ignore_index=True)"
   ]
  },
  {
   "cell_type": "code",
   "execution_count": null,
   "id": "f5c91b1d",
   "metadata": {},
   "outputs": [
    {
     "data": {
      "text/plain": [
       "1    16\n",
       "3    16\n",
       "5    16\n",
       "Name: B, dtype: int64"
      ]
     },
     "execution_count": null,
     "metadata": {},
     "output_type": "execute_result"
    }
   ],
   "source": [
    "trial_df['B'].value_counts()"
   ]
  },
  {
   "cell_type": "markdown",
   "id": "84a1b279",
   "metadata": {},
   "source": [
    "# Trials on LearningCurveDisplay"
   ]
  },
  {
   "cell_type": "code",
   "execution_count": null,
   "id": "662a8fac",
   "metadata": {},
   "outputs": [],
   "source": [
    "#|export\n",
    "import matplotlib.pyplot as plt\n",
    "from sklearn.model_selection import LearningCurveDisplay, train_test_split\n",
    "from sklearn.tree import DecisionTreeClassifier"
   ]
  },
  {
   "cell_type": "code",
   "execution_count": null,
   "id": "ea64a87f",
   "metadata": {},
   "outputs": [
    {
     "data": {
      "image/png": "[encoded data removed]",
      "text/plain": [
       "<Figure size 640x480 with 1 Axes>"
      ]
     },
     "metadata": {},
     "output_type": "display_data"
    },
    {
     "name": "stdout",
     "output_type": "stream",
     "text": [
      "CPU times: total: 938 ms\n",
      "Wall time: 1.27 s\n"
     ]
    }
   ],
   "source": [
    "%%time\n",
    "X_train, X_test, y_train, y_test = train_test_split(trial_df.drop(columns=['B']), trial_df['B'], test_size=0.5, random_state=42, stratify= trial_df['B'])\n",
    "tree = DecisionTreeClassifier(random_state=42)\n",
    "LearningCurveDisplay.from_estimator(tree, X_train, y_train, train_sizes=np.linspace(0.1, 1.0, 16))\n",
    "plt.show()"
   ]
  }
 ],
 "metadata": {
  "kernelspec": {
   "display_name": "python3",
   "language": "python",
   "name": "python3"
  }
 },
 "nbformat": 4,
 "nbformat_minor": 5
}
