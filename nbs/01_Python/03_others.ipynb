{
 "cells": [
  {
   "cell_type": "code",
   "execution_count": null,
   "id": "ac58204c",
   "metadata": {},
   "outputs": [],
   "source": [
    "#| default_exp tips"
   ]
  },
  {
   "cell_type": "markdown",
   "id": "56a4705d",
   "metadata": {},
   "source": [
    "<a id=top></a>"
   ]
  },
  {
   "cell_type": "markdown",
   "id": "f417208f",
   "metadata": {},
   "source": [
    "# General Python Tips"
   ]
  },
  {
   "cell_type": "markdown",
   "id": "4d928324",
   "metadata": {},
   "source": [
    "## language features"
   ]
  },
  {
   "cell_type": "code",
   "execution_count": null,
   "id": "ef98fd7b",
   "metadata": {},
   "outputs": [
    {
     "name": "stdout",
     "output_type": "stream",
     "text": [
      "140711489444032 140711489444032 140711489444032\n"
     ]
    },
    {
     "data": {
      "text/plain": [
       "True"
      ]
     },
     "execution_count": null,
     "metadata": {},
     "output_type": "execute_result"
    }
   ],
   "source": [
    "x = y = 18\n",
    "print(id(x),id(y), id(18))\n",
    "x is y"
   ]
  },
  {
   "cell_type": "code",
   "execution_count": null,
   "id": "526971e1",
   "metadata": {},
   "outputs": [
    {
     "data": {
      "text/plain": [
       "'\\U0010ffff'"
      ]
     },
     "execution_count": null,
     "metadata": {},
     "output_type": "execute_result"
    }
   ],
   "source": [
    "chr(int('0x10FFFF',base=16))#.to_bytes(3, 'big')"
   ]
  },
  {
   "cell_type": "markdown",
   "id": "702fec39",
   "metadata": {},
   "source": [
    "[back to top](#top)"
   ]
  },
  {
   "cell_type": "markdown",
   "id": "3de7c0dc",
   "metadata": {},
   "source": [
    "## class decorators\n",
    "\n",
    "> Works as a hidden inheritence"
   ]
  },
  {
   "cell_type": "code",
   "execution_count": null,
   "id": "89103376",
   "metadata": {},
   "outputs": [
    {
     "data": {
      "text/plain": [
       "'value'"
      ]
     },
     "execution_count": null,
     "metadata": {},
     "output_type": "execute_result"
    }
   ],
   "source": [
    "def decorator(cls):\n",
    "    class wrapperClass(cls):\n",
    "        attribute = \"value\"\n",
    "    return wrapperClass\n",
    "\n",
    "@decorator\n",
    "class exampleClass:\n",
    "    ...\n",
    "\n",
    "example = exampleClass()\n",
    "example.attribute"
   ]
  },
  {
   "cell_type": "code",
   "execution_count": null,
   "id": "2ca8b006",
   "metadata": {},
   "outputs": [
    {
     "data": {
      "text/plain": [
       "__main__.decorator.<locals>.wrapperClass"
      ]
     },
     "execution_count": null,
     "metadata": {},
     "output_type": "execute_result"
    }
   ],
   "source": [
    "example.__class__"
   ]
  },
  {
   "cell_type": "markdown",
   "id": "874e5ca8",
   "metadata": {},
   "source": [
    "[back to top](#top)"
   ]
  },
  {
   "cell_type": "markdown",
   "id": "731fe793",
   "metadata": {},
   "source": [
    "## metaclass\n",
    "\n",
    "> Something like a factory. Ultimately, type creates the objects, apparently."
   ]
  },
  {
   "cell_type": "code",
   "execution_count": null,
   "id": "badda6ed",
   "metadata": {},
   "outputs": [
    {
     "data": {
      "text/plain": [
       "['attr1', 'attr2', 'name', 'value']"
      ]
     },
     "execution_count": null,
     "metadata": {},
     "output_type": "execute_result"
    }
   ],
   "source": [
    "class Meta(type):\n",
    "    def __new__(mcs, name, bases, class_dict, **kwargs):\n",
    "        class_ = super().__new__(mcs, name, bases, class_dict)\n",
    "        if kwargs:\n",
    "            for name, value in kwargs.items():\n",
    "                setattr(class_, name, value)\n",
    "        return class_\n",
    "\n",
    "class testMeta(object, metaclass=Meta, attr1=True, attr2='42'):\n",
    "    def __init__(self, name, value):\n",
    "        self.name = name\n",
    "        self.value = value\n",
    "        \n",
    "dir(testMeta(\" \",10))[-4:]"
   ]
  },
  {
   "cell_type": "markdown",
   "id": "a0d80f82",
   "metadata": {},
   "source": [
    "[back to top](#top)"
   ]
  },
  {
   "cell_type": "markdown",
   "id": "9f3ead2f",
   "metadata": {},
   "source": [
    "## dict\n",
    "\n",
    "> proper dictionary manipulation"
   ]
  },
  {
   "cell_type": "markdown",
   "id": "129e8bea",
   "metadata": {},
   "source": [
    "Accessing with default value."
   ]
  },
  {
   "cell_type": "code",
   "execution_count": null,
   "id": "134ce710",
   "metadata": {},
   "outputs": [
    {
     "data": {
      "text/plain": [
       "0"
      ]
     },
     "execution_count": null,
     "metadata": {},
     "output_type": "execute_result"
    }
   ],
   "source": [
    "d = {'a':1, 'b':2, 'c':3}\n",
    "\n",
    "d.get('d',0)"
   ]
  },
  {
   "cell_type": "markdown",
   "id": "35b19a47",
   "metadata": {},
   "source": [
    "Using ```KeyError``` to set new keys."
   ]
  },
  {
   "cell_type": "code",
   "execution_count": null,
   "id": "9d4aded5",
   "metadata": {},
   "outputs": [
    {
     "data": {
      "text/plain": [
       "0"
      ]
     },
     "execution_count": null,
     "metadata": {},
     "output_type": "execute_result"
    }
   ],
   "source": [
    "try:\n",
    "    print(f\"{d['d']= }\")\n",
    "except KeyError:\n",
    "    d['d']=0\n",
    "d['d']"
   ]
  },
  {
   "cell_type": "markdown",
   "id": "625d5302",
   "metadata": {},
   "source": [
    "Since python 3.9 the union operator ```|``` works in dicts as well. Since I am currently on 3.8, here's a union of sets, but you get the gist."
   ]
  },
  {
   "cell_type": "code",
   "execution_count": null,
   "id": "7998a6b2",
   "metadata": {},
   "outputs": [
    {
     "data": {
      "text/plain": [
       "{1, 2, 3, 4, 5}"
      ]
     },
     "execution_count": null,
     "metadata": {},
     "output_type": "execute_result"
    }
   ],
   "source": [
    "{1,2,3} | {4,5}"
   ]
  },
  {
   "cell_type": "markdown",
   "id": "ed1626f6",
   "metadata": {},
   "source": [
    "[back to top](#top)"
   ]
  },
  {
   "cell_type": "markdown",
   "id": "25482fea",
   "metadata": {},
   "source": [
    "## Printing"
   ]
  },
  {
   "cell_type": "markdown",
   "id": "16e16938",
   "metadata": {},
   "source": [
    "It is possible to append ```:character[<^>]number``` while formatting a string to include a ```character``` multiple times so as to the final string have size of at least ```number```"
   ]
  },
  {
   "cell_type": "code",
   "execution_count": null,
   "id": "3f0adf76",
   "metadata": {},
   "outputs": [
    {
     "name": "stdout",
     "output_type": "stream",
     "text": [
      "__________lero__________\n"
     ]
    },
    {
     "data": {
      "text/plain": [
       "'__________lero'"
      ]
     },
     "execution_count": null,
     "metadata": {},
     "output_type": "execute_result"
    }
   ],
   "source": [
    "print(\"{:_^24}\".format(\"lero\"))\n",
    "\"{:_>14}\".format(\"lero\")"
   ]
  },
  {
   "cell_type": "markdown",
   "id": "473376ab",
   "metadata": {},
   "source": [
    "f-strings can be formatted to insert variables/expressions before equal sign and value."
   ]
  },
  {
   "cell_type": "code",
   "execution_count": null,
   "id": "c62b49b9",
   "metadata": {},
   "outputs": [
    {
     "data": {
      "text/plain": [
       "\"d['b']= 2\""
      ]
     },
     "execution_count": null,
     "metadata": {},
     "output_type": "execute_result"
    }
   ],
   "source": [
    "d = {'a':1, 'b':2}\n",
    "f\"{d['b']= }\""
   ]
  },
  {
   "cell_type": "markdown",
   "id": "3ea92e32",
   "metadata": {},
   "source": [
    "[back to top](#top)"
   ]
  }
 ],
 "metadata": {
  "kernelspec": {
   "display_name": "Python 3 (ipykernel)",
   "language": "python",
   "name": "python3"
  },
  "language_info": {
   "codemirror_mode": {
    "name": "ipython",
    "version": 3
   },
   "file_extension": ".py",
   "mimetype": "text/x-python",
   "name": "python",
   "nbconvert_exporter": "python",
   "pygments_lexer": "ipython3",
   "version": "3.8.3"
  },
  "toc": {
   "base_numbering": 1,
   "nav_menu": {},
   "number_sections": true,
   "sideBar": true,
   "skip_h1_title": false,
   "title_cell": "Table of Contents",
   "title_sidebar": "Contents",
   "toc_cell": false,
   "toc_position": {},
   "toc_section_display": true,
   "toc_window_display": false
  }
 },
 "nbformat": 4,
 "nbformat_minor": 5
}
