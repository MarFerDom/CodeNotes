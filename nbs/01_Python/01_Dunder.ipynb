{
 "cells": [
  {
   "cell_type": "code",
   "execution_count": null,
   "id": "ac58204c",
   "metadata": {},
   "outputs": [],
   "source": [
    "#| default_exp dunder"
   ]
  },
  {
   "cell_type": "markdown",
   "id": "5bdb0ccc",
   "metadata": {},
   "source": [
    "# Dunder methods \n",
    "\n",
    "<a id=top></a>\n",
    "\n",
    "> integrate object's behaviour into python modus operandi"
   ]
  },
  {
   "cell_type": "markdown",
   "id": "97989807",
   "metadata": {},
   "source": [
    "Methods in this page\n",
    "\n",
    "****************\n",
    "\n",
    "- [\\_\\_init\\_\\_](#init)\n",
    "- [\\_\\_new\\_\\_](#new)\n",
    "- [\\_\\_str\\_\\_](#str)\n",
    "- [\\_\\_repr\\_\\_()](#repr)\n",
    "- [\\_\\_eq\\_\\_(), \\_\\_lt\\_\\_(), \\_\\_gt\\_\\_()](#comparison)\n",
    "- [\\_\\_len\\_\\_()](#len)\n",
    "- [\\_\\_contains\\_\\_()](#contains)\n",
    "- [\\_\\_hash\\_\\_()](#hash)\n",
    "- [\\_\\_call\\_\\_()](#call)\n",
    "- [\\_\\_dir\\_\\_()](#dir)\n",
    "\n",
    "****************"
   ]
  },
  {
   "cell_type": "markdown",
   "id": "6751b9d5",
   "metadata": {},
   "source": [
    "<a id=init></a>\n",
    "\n",
    "## \\_\\_init\\_\\_()\n",
    "\n",
    "> Init is called when an object is instantiated by calling the class. Here we define an initializer which has default arguments and test its behaviour."
   ]
  },
  {
   "cell_type": "code",
   "execution_count": null,
   "id": "d917d5fe",
   "metadata": {},
   "outputs": [
    {
     "name": "stdout",
     "output_type": "stream",
     "text": [
      "0 nothing\n",
      "42 something\n",
      "<__main__.myDund object>\n"
     ]
    },
    {
     "data": {
      "text/plain": [
       "<__main__.myDund>"
      ]
     },
     "execution_count": null,
     "metadata": {},
     "output_type": "execute_result"
    }
   ],
   "source": [
    "class myDund:\n",
    "    \"\"\"Test class for dunder methods. Other dunder methods are added as the explanation goes\"\"\"\n",
    "    \n",
    "    def __init__(self, number: int=0 # an integer number\n",
    "                 , text: str=\"nothing\"): # a string\n",
    "        self.number, self.text = number, text\n",
    "        \n",
    "test1 = myDund()\n",
    "print(test1.number, test1.text)\n",
    "test2 = myDund(42,\"something\")\n",
    "print(test2.number, test2.text)\n",
    "print(test1)\n",
    "test2"
   ]
  },
  {
   "cell_type": "markdown",
   "id": "5b37c416",
   "metadata": {},
   "source": [
    "[back to top](#top)"
   ]
  },
  {
   "cell_type": "markdown",
   "id": "0ad4a725",
   "metadata": {},
   "source": [
    "<a id=new></a>\n",
    "\n",
    "\n",
    "## \\_\\_new\\_\\_()\n",
    "    \n",
    "> Runs prior to initialization and is supposed to return the object that will be returned by the instantiation of the class."
   ]
  },
  {
   "cell_type": "markdown",
   "id": "8c3a563c",
   "metadata": {},
   "source": [
    "Here we use it to control which class of object is created. A bit of boilerplate to get the classes' names from ```__str__()```"
   ]
  },
  {
   "cell_type": "code",
   "execution_count": null,
   "id": "e0063127",
   "metadata": {},
   "outputs": [
    {
     "name": "stdout",
     "output_type": "stream",
     "text": [
      "testNew1 = testA\n",
      "testNew2 = testB\n",
      "testNew3 = testNew\n"
     ]
    }
   ],
   "source": [
    "class baseTest:\n",
    "    @classmethod\n",
    "    def __repr__(cls):\n",
    "        return cls.__name__\n",
    "    \n",
    "class Test(baseTest):\n",
    "    def __repr__(self):\n",
    "        return super().__repr__()\n",
    "    __str__ = __repr__\n",
    "\n",
    "class testA(Test):\n",
    "    def __init__(self, *args, **kwargs):\n",
    "        super().__init__(self, *args, **kwargs)\n",
    "        x = kwargs['x']\n",
    "        \n",
    "class testB(Test):\n",
    "    def __init__(self, *args, **kwargs):\n",
    "        super().__init__(self, *args, **kwargs)\n",
    "        y = kwargs['y']  \n",
    "        \n",
    "class testNew(Test):\n",
    "    def __new__(cls, *args, **kwargs):\n",
    "        if 'x' in [*kwargs]:\n",
    "            obj = super(testNew,cls).__new__(testA, *args, **kwargs)\n",
    "        elif 'y' in [*kwargs]:\n",
    "            obj = super(testNew,cls).__new__(testB, *args, **kwargs)\n",
    "        else:\n",
    "            obj = super(testNew,cls).__new__(cls, *args, **kwargs)\n",
    "        return obj\n",
    "    \n",
    "testNew1 = testNew(x=42)\n",
    "testNew2 = testNew(y=\"42\")\n",
    "testNew3 = testNew()\n",
    "print(f\"{testNew1 = }\\n{testNew2 = }\\n{testNew3 = }\")"
   ]
  },
  {
   "cell_type": "markdown",
   "id": "1a871f99",
   "metadata": {},
   "source": [
    "[back to top](#top)"
   ]
  },
  {
   "cell_type": "markdown",
   "id": "0121d368",
   "metadata": {},
   "source": [
    "<a id=str></a>\n",
    "\n",
    "## \\_\\_str\\_\\_()\n",
    "    \n",
    "> One thing to improve is the presentation of my object when printed or returned to the prompt. Str is called when print or str(built-in func, not obj method) is called on the object"
   ]
  },
  {
   "cell_type": "code",
   "execution_count": null,
   "id": "655b80fa",
   "metadata": {},
   "outputs": [
    {
     "name": "stdout",
     "output_type": "stream",
     "text": [
      "(0: nothing)\n"
     ]
    },
    {
     "data": {
      "text/plain": [
       "('(0: nothing)', <__main__.myDund>)"
      ]
     },
     "execution_count": null,
     "metadata": {},
     "output_type": "execute_result"
    }
   ],
   "source": [
    "def myStr(self: myDund):\n",
    "    \"\"\"Implementation of __str__()\"\"\"\n",
    "    return f\"({self.number}: {self.text})\"\n",
    "\n",
    "myDund.__str__ = myStr\n",
    "print(test1)\n",
    "str(test1), test1"
   ]
  },
  {
   "cell_type": "markdown",
   "id": "6f74e115",
   "metadata": {},
   "source": [
    "[back to top](#top)"
   ]
  },
  {
   "cell_type": "markdown",
   "id": "41b79a1b",
   "metadata": {},
   "source": [
    "<a id=repr></a>\n",
    "\n",
    "## \\_\\_repr\\_\\_()\n",
    "\n",
    "    \n",
    "> Repr is used when ```__str__()``` is not implemented or in cases where you want to run eval on it, and should be implemented accordingly."
   ]
  },
  {
   "cell_type": "code",
   "execution_count": null,
   "id": "d89efdf0",
   "metadata": {},
   "outputs": [
    {
     "name": "stdout",
     "output_type": "stream",
     "text": [
      "myDund(number=0, text='nothing')\n"
     ]
    },
    {
     "data": {
      "text/plain": [
       "myDund(number=42, text='something')"
      ]
     },
     "execution_count": null,
     "metadata": {},
     "output_type": "execute_result"
    }
   ],
   "source": [
    "def myRepr(self: myDund):\n",
    "    \"\"\"Implementation of __repr__()\"\"\"\n",
    "    return f\"myDund(number={self.number}, text='{self.text}')\"\n",
    "\n",
    "myDund.__repr__ = myRepr\n",
    "print(test1.__repr__())\n",
    "test3 = eval(test2.__repr__())\n",
    "test3"
   ]
  },
  {
   "cell_type": "markdown",
   "id": "0effcf2e",
   "metadata": {},
   "source": [
    "[back to top](#top)"
   ]
  },
  {
   "cell_type": "markdown",
   "id": "9b3ba8b5",
   "metadata": {},
   "source": [
    "<a id=comparison></a>\n",
    "\n",
    "## \\_\\_eq\\_\\_(), \\_\\_lt\\_\\_(), \\_\\_gt\\_\\_()\n",
    "    \n",
    "> For personalized comparissons ```__eq__()```, ```__lt__()``` and ```__gt__()``` can be used"
   ]
  },
  {
   "cell_type": "code",
   "execution_count": null,
   "id": "6cba9524",
   "metadata": {},
   "outputs": [
    {
     "name": "stdout",
     "output_type": "stream",
     "text": [
      "is (42: something) equal to (42: something): \tTrue\n",
      "is (42: something) less than (0: nothing): \tFalse\n",
      "is (42: something) greater than (0: nothing): \tTrue\n"
     ]
    }
   ],
   "source": [
    "\n",
    "myDund.__eq__ = lambda self, other: (self.number,self.text)==(other.number,other.text)\n",
    "myDund.__lt__ = lambda self, other: (self.number,self.text)<(other.number,other.text)\n",
    "myDund.__gt__ = lambda self, other: (self.number,self.text)>(other.number,other.text)\n",
    "print(f\"is {test3} equal to {test2}: \\t{test3 == test2}\")\n",
    "print(f\"is {test3} less than {test1}: \\t{test3 < test1}\")\n",
    "print(f\"is {test3} greater than {test1}: \\t{test3 > test1}\")"
   ]
  },
  {
   "cell_type": "markdown",
   "id": "a11cb81d",
   "metadata": {},
   "source": [
    "[back to top](#top)"
   ]
  },
  {
   "cell_type": "markdown",
   "id": "983644d6",
   "metadata": {},
   "source": [
    "<a id=len></a>\n",
    "\n",
    "## \\_\\_len\\_\\_()\n",
    "    \n",
    "> Called by len() built-in method"
   ]
  },
  {
   "cell_type": "code",
   "execution_count": null,
   "id": "499c99a3",
   "metadata": {},
   "outputs": [
    {
     "data": {
      "text/plain": [
       "(7, 9)"
      ]
     },
     "execution_count": null,
     "metadata": {},
     "output_type": "execute_result"
    }
   ],
   "source": [
    "def myLen(self: myDund) -> int:\n",
    "    return len(self.text)\n",
    "    \n",
    "myDund.__len__ = myLen\n",
    "len(test1), len(test2)"
   ]
  },
  {
   "cell_type": "markdown",
   "id": "3f119a00",
   "metadata": {},
   "source": [
    "[back to top](#top)"
   ]
  },
  {
   "cell_type": "markdown",
   "id": "a40bfced",
   "metadata": {},
   "source": [
    "<a id=contains></a>\n",
    "\n",
    "## \\_\\_contains\\_\\_()\n",
    "    \n",
    "> Called by ```in``` built-in operator"
   ]
  },
  {
   "cell_type": "code",
   "execution_count": null,
   "id": "907ed760",
   "metadata": {},
   "outputs": [
    {
     "name": "stdout",
     "output_type": "stream",
     "text": [
      "0 in (0: nothing): True\n"
     ]
    }
   ],
   "source": [
    "def myCont(self: myDund, num: int) -> bool:\n",
    "    return num in [self.number]\n",
    "    \n",
    "myDund.__contains__ = myCont\n",
    "print(f\"0 in {test1}: {0 in test1}\")"
   ]
  },
  {
   "cell_type": "markdown",
   "id": "affc1bbf",
   "metadata": {},
   "source": [
    "[back to top](#top)"
   ]
  },
  {
   "cell_type": "markdown",
   "id": "eed4143c",
   "metadata": {},
   "source": [
    "<a id=hash></a>\n",
    "\n",
    "## \\_\\_hash\\_\\_()\n",
    "    \n",
    "> Called by hash() built-in method\n",
    "\n",
    "Hash generates a **per run random number** (if not int/float) for an object.\n",
    "\n",
    "Hash calls ```__hash__()``` on an object if defined and truncates if representation is of higher bit width than host machine."
   ]
  },
  {
   "cell_type": "code",
   "execution_count": null,
   "id": "afa03dd1",
   "metadata": {},
   "outputs": [
    {
     "name": "stdout",
     "output_type": "stream",
     "text": [
      "1\n",
      "Hash for class myDund: 172505833084\n",
      "Hash for object (42: something), id 2760109428944: 172506839309\n",
      "Hash for object (42: something), id 2760109431584: 172506839474\n"
     ]
    }
   ],
   "source": [
    "print(hash(1))\n",
    "print(f\"Hash for class {myDund.__name__}: {hash(myDund)}\")\n",
    "print(f\"Hash for object {test2}, id {id(test2)}: {hash(test2)}\")\n",
    "print(f\"Hash for object {test3}, id {id(test3)}: {hash(test3)}\")"
   ]
  },
  {
   "cell_type": "markdown",
   "id": "6420b468",
   "metadata": {},
   "source": [
    "The ```__hash__()``` method can then be overwritten for custom behaviour."
   ]
  },
  {
   "cell_type": "code",
   "execution_count": null,
   "id": "03ece0fe",
   "metadata": {},
   "outputs": [
    {
     "name": "stdout",
     "output_type": "stream",
     "text": [
      "Hash for class myDund: 172505833084\n",
      "Hash for object (42: something), id 2760109428944: 6151054915300685838\n",
      "Hash for object (42: something), id 2760109431584: 6151054915300685838\n"
     ]
    }
   ],
   "source": [
    "myDund.__hash__ = lambda self: hash(self.text)\n",
    "print(f\"Hash for class {myDund.__name__}: {hash(myDund)}\")\n",
    "print(f\"Hash for object {test2}, id {id(test2)}: {hash(test2)}\")\n",
    "print(f\"Hash for object {test3}, id {id(test3)}: {hash(test3)}\")"
   ]
  },
  {
   "cell_type": "markdown",
   "id": "bb61a82e",
   "metadata": {},
   "source": [
    "[back to top](#top)"
   ]
  },
  {
   "cell_type": "markdown",
   "id": "920d47b8",
   "metadata": {},
   "source": [
    "<a id=call></a>\n",
    "\n",
    "## \\_\\_call\\_\\_()\n",
    "    \n",
    "> Call when using the ```()``` operator.\n",
    "\n",
    "See [callable()](02_Built-in.ipynb#callable%28object%29)."
   ]
  },
  {
   "cell_type": "code",
   "execution_count": null,
   "id": "774ea056",
   "metadata": {},
   "outputs": [
    {
     "data": {
      "text/plain": [
       "'something something something something something something something something something something something something something something something something something something something something something something something something something something something something something something something something something something something something something something something something something something '"
      ]
     },
     "execution_count": null,
     "metadata": {},
     "output_type": "execute_result"
    }
   ],
   "source": [
    "myDund.__call__ = lambda self: self.number*(self.text+\" \")\n",
    "test2()"
   ]
  },
  {
   "cell_type": "markdown",
   "id": "c371431f",
   "metadata": {},
   "source": [
    "[back to top](#top)"
   ]
  },
  {
   "cell_type": "markdown",
   "id": "751d1436",
   "metadata": {},
   "source": [
    "<a id=dir></a>\n",
    "\n",
    "## \\_\\_dir\\_\\_()\n",
    "    \n",
    "> Called by dir() built-in method.\n",
    ">\n",
    ">\"Without arguments, return the list of names in the current local scope. With an argument, attempt to return a list of valid attributes for that object.\"\n",
    "\n",
    "See [dir()](02_Buil-in.ipynb#dir%28object=None%29)."
   ]
  },
  {
   "cell_type": "code",
   "execution_count": null,
   "id": "ee671b4a",
   "metadata": {},
   "outputs": [
    {
     "name": "stdout",
     "output_type": "stream",
     "text": [
      "[' ', ' ', 'd', 'e', 'h', 'i', 'i', 'i', 'i', 'n', 's', 's', 's', 't']\n",
      "['inside', 'is', 'this']\n"
     ]
    }
   ],
   "source": [
    "myDund.__dir__ = lambda self: \"this is inside\"\n",
    "print(dir(test1)) # returns as a sorted list\n",
    "myDund.__dir__ = lambda self: [\"this\", \"is\", \"inside\"]\n",
    "print(dir(test1)) # already a list, just sorts"
   ]
  },
  {
   "cell_type": "markdown",
   "id": "69f2e523",
   "metadata": {},
   "source": [
    "[back to top](#top)"
   ]
  }
 ],
 "metadata": {
  "kernelspec": {
   "display_name": "Python 3 (ipykernel)",
   "language": "python",
   "name": "python3"
  }
 },
 "nbformat": 4,
 "nbformat_minor": 5
}
